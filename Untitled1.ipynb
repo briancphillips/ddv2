{
 "cells": [
  {
   "cell_type": "code",
   "execution_count": 1,
   "id": "f460b5b4-f3b6-4472-8995-8ad35ac30523",
   "metadata": {},
   "outputs": [],
   "source": [
    "import os\n",
    "import zipfile\n",
    "\n",
    "def is_hidden(filepath):\n",
    "    return any(part.startswith('.') for part in filepath.split(os.path.sep))\n",
    "\n",
    "def is_image(filepath):\n",
    "    image_extensions = {'.jpg', '.jpeg', '.png', '.gif', '.bmp', '.tiff'}\n",
    "    return os.path.splitext(filepath)[1].lower() in image_extensions\n",
    "\n",
    "def zip_directory(directory_path, zip_path):\n",
    "    with zipfile.ZipFile(zip_path, 'w', zipfile.ZIP_DEFLATED) as zipf:\n",
    "        for root, _, files in os.walk(directory_path):\n",
    "            for file in files:\n",
    "                file_path = os.path.join(root, file)\n",
    "                if not is_hidden(file_path) and not is_image(file_path):\n",
    "                    zipf.write(file_path, os.path.relpath(file_path, directory_path))\n",
    "\n",
    "# Example usage\n",
    "directory_to_zip = '/Users/brian/Desktop/ddv2'\n",
    "output_zip_file = '/Users/brian/Desktop/ddv2.zip'\n",
    "zip_directory(directory_to_zip, output_zip_file)"
   ]
  },
  {
   "cell_type": "code",
   "execution_count": null,
   "id": "3c72227b-3223-4938-bf34-b6f419c4ee85",
   "metadata": {},
   "outputs": [],
   "source": []
  }
 ],
 "metadata": {
  "kernelspec": {
   "display_name": "Python 3 (ipykernel)",
   "language": "python",
   "name": "python3"
  },
  "language_info": {
   "codemirror_mode": {
    "name": "ipython",
    "version": 3
   },
   "file_extension": ".py",
   "mimetype": "text/x-python",
   "name": "python",
   "nbconvert_exporter": "python",
   "pygments_lexer": "ipython3",
   "version": "3.9.19"
  }
 },
 "nbformat": 4,
 "nbformat_minor": 5
}
