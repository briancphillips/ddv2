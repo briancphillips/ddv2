{
 "cells": [
  {
   "cell_type": "code",
   "execution_count": null,
   "id": "d1dae989-3aa3-4957-96d6-062148653d40",
   "metadata": {},
   "outputs": [
    {
     "name": "stderr",
     "output_type": "stream",
     "text": [
      "2024-06-09 12:36:20.984036: E external/local_xla/xla/stream_executor/cuda/cuda_dnn.cc:9261] Unable to register cuDNN factory: Attempting to register factory for plugin cuDNN when one has already been registered\n",
      "2024-06-09 12:36:20.984110: E external/local_xla/xla/stream_executor/cuda/cuda_fft.cc:607] Unable to register cuFFT factory: Attempting to register factory for plugin cuFFT when one has already been registered\n",
      "2024-06-09 12:36:20.985146: E external/local_xla/xla/stream_executor/cuda/cuda_blas.cc:1515] Unable to register cuBLAS factory: Attempting to register factory for plugin cuBLAS when one has already been registered\n",
      "2024-06-09 12:36:20.992361: I tensorflow/core/platform/cpu_feature_guard.cc:182] This TensorFlow binary is optimized to use available CPU instructions in performance-critical operations.\n",
      "To enable the following instructions: AVX2 AVX512F FMA, in other operations, rebuild TensorFlow with the appropriate compiler flags.\n",
      "2024-06-09 12:36:23,592 - INFO - Config updated to: {'IMG_WIDTH': 30, 'IMG_HEIGHT': 30, 'BATCH_SIZE': 16, 'EPOCHS': 2, 'SEED': 42, 'DATASET': 'GTSRB', 'train_data_dir': './datasets/gtsrb/train', 'validation_data_dir': './datasets/gtsrb/val', 'k': 5, 'num_iterations': 10, 'learning_rate': 0.001, 'regularization': 0.01, 'batch_size': 128, 'num_models': 5, 'mse_threshold': 0.1, 'attack_type': 'pgd', 'evaluation': 'Poisoned', 'source_class': 3, 'target_class': 7}\n",
      "2024-06-09 12:36:23,594 - INFO - Pipeline started with config: {'IMG_WIDTH': 30, 'IMG_HEIGHT': 30, 'BATCH_SIZE': 16, 'EPOCHS': 2, 'SEED': 42, 'DATASET': 'GTSRB', 'train_data_dir': './datasets/gtsrb/train', 'validation_data_dir': './datasets/gtsrb/val', 'k': 5, 'num_iterations': 10, 'learning_rate': 0.001, 'regularization': 0.01, 'batch_size': 128, 'num_models': 5, 'mse_threshold': 0.1, 'attack_type': 'pgd', 'evaluation': 'Poisoned', 'source_class': 3, 'target_class': 7}\n"
     ]
    },
    {
     "name": "stdout",
     "output_type": "stream",
     "text": [
      "Training classes: ['6', '19', '15', '23', '8', '38', '0', '41', '32', '1', '34', '40', '10', '12', '16', '5', '29', '36', '27', '18', '25', '42', '28', '9', '33', '14', '30', '17', '39', '4', '2', '31', '13', '21', '3', '26', '37', '22', '11', '35', '24', '7', '20']\n",
      "Validation classes: ['6', '19', '15', '23', '8', '38', '0', '41', '32', '1', '34', '40', '10', '12', '16', '5', '29', '36', '27', '18', '25', '42', '28', '9', '33', '14', '30', '17', '39', '4', '2', '31', '13', '21', '3', '26', '37', '22', '11', '35', '24', '7', '20']\n",
      "Number of classes in training data: 43\n",
      "Number of classes in validation data: 43\n",
      "Found 27446 images belonging to 43 classes.\n",
      "Found 11763 images belonging to 43 classes.\n",
      "Class indices (train): {'0': 0, '1': 1, '10': 2, '11': 3, '12': 4, '13': 5, '14': 6, '15': 7, '16': 8, '17': 9, '18': 10, '19': 11, '2': 12, '20': 13, '21': 14, '22': 15, '23': 16, '24': 17, '25': 18, '26': 19, '27': 20, '28': 21, '29': 22, '3': 23, '30': 24, '31': 25, '32': 26, '33': 27, '34': 28, '35': 29, '36': 30, '37': 31, '38': 32, '39': 33, '4': 34, '40': 35, '41': 36, '42': 37, '5': 38, '6': 39, '7': 40, '8': 41, '9': 42}\n",
      "Class indices (validation): {'0': 0, '1': 1, '10': 2, '11': 3, '12': 4, '13': 5, '14': 6, '15': 7, '16': 8, '17': 9, '18': 10, '19': 11, '2': 12, '20': 13, '21': 14, '22': 15, '23': 16, '24': 17, '25': 18, '26': 19, '27': 20, '28': 21, '29': 22, '3': 23, '30': 24, '31': 25, '32': 26, '33': 27, '34': 28, '35': 29, '36': 30, '37': 31, '38': 32, '39': 33, '4': 34, '40': 35, '41': 36, '42': 37, '5': 38, '6': 39, '7': 40, '8': 41, '9': 42}\n",
      "Steps per epoch (train): 1715\n",
      "Steps per epoch (validation): 735\n",
      "Loading existing CNN model...\n"
     ]
    },
    {
     "name": "stderr",
     "output_type": "stream",
     "text": [
      "2024-06-09 12:36:38.165320: I external/local_xla/xla/stream_executor/cuda/cuda_executor.cc:887] could not open file to read NUMA node: /sys/bus/pci/devices/0000:65:00.0/numa_node\n",
      "Your kernel may have been built without NUMA support.\n",
      "2024-06-09 12:36:38.182270: I external/local_xla/xla/stream_executor/cuda/cuda_executor.cc:887] could not open file to read NUMA node: /sys/bus/pci/devices/0000:65:00.0/numa_node\n",
      "Your kernel may have been built without NUMA support.\n",
      "2024-06-09 12:36:38.182382: I external/local_xla/xla/stream_executor/cuda/cuda_executor.cc:887] could not open file to read NUMA node: /sys/bus/pci/devices/0000:65:00.0/numa_node\n",
      "Your kernel may have been built without NUMA support.\n",
      "2024-06-09 12:36:38.188982: I external/local_xla/xla/stream_executor/cuda/cuda_executor.cc:887] could not open file to read NUMA node: /sys/bus/pci/devices/0000:65:00.0/numa_node\n",
      "Your kernel may have been built without NUMA support.\n",
      "2024-06-09 12:36:38.189108: I external/local_xla/xla/stream_executor/cuda/cuda_executor.cc:887] could not open file to read NUMA node: /sys/bus/pci/devices/0000:65:00.0/numa_node\n",
      "Your kernel may have been built without NUMA support.\n",
      "2024-06-09 12:36:38.189178: I external/local_xla/xla/stream_executor/cuda/cuda_executor.cc:887] could not open file to read NUMA node: /sys/bus/pci/devices/0000:65:00.0/numa_node\n",
      "Your kernel may have been built without NUMA support.\n",
      "2024-06-09 12:36:38.439734: I external/local_xla/xla/stream_executor/cuda/cuda_executor.cc:887] could not open file to read NUMA node: /sys/bus/pci/devices/0000:65:00.0/numa_node\n",
      "Your kernel may have been built without NUMA support.\n",
      "2024-06-09 12:36:38.439792: I external/local_xla/xla/stream_executor/cuda/cuda_executor.cc:887] could not open file to read NUMA node: /sys/bus/pci/devices/0000:65:00.0/numa_node\n",
      "Your kernel may have been built without NUMA support.\n",
      "2024-06-09 12:36:38.439802: I tensorflow/core/common_runtime/gpu/gpu_device.cc:2022] Could not identify NUMA node of platform GPU id 0, defaulting to 0.  Your kernel may not have been built with NUMA support.\n",
      "2024-06-09 12:36:38.439834: I external/local_xla/xla/stream_executor/cuda/cuda_executor.cc:887] could not open file to read NUMA node: /sys/bus/pci/devices/0000:65:00.0/numa_node\n",
      "Your kernel may have been built without NUMA support.\n",
      "2024-06-09 12:36:38.439855: I tensorflow/core/common_runtime/gpu/gpu_device.cc:1929] Created device /job:localhost/replica:0/task:0/device:GPU:0 with 9502 MB memory:  -> device: 0, name: NVIDIA GeForce RTX 4070 Ti, pci bus id: 0000:65:00.0, compute capability: 8.9\n"
     ]
    },
    {
     "name": "stdout",
     "output_type": "stream",
     "text": [
      "Surrogate model loaded from surrogate_model_gtsrb.h5\n",
      "Evaluating with KNN\n",
      "Evaluating with Logistic Regression\n"
     ]
    }
   ],
   "source": [
    "import sys\n",
    "import os\n",
    "\n",
    "# Add the current working directory to the Python path\n",
    "sys.path.append(os.getcwd())\n",
    "%run run_experiment.py\n"
   ]
  },
  {
   "cell_type": "code",
   "execution_count": null,
   "id": "a3e33efd-62d6-4360-aae0-3339a135a924",
   "metadata": {},
   "outputs": [],
   "source": [
    "# import os\n",
    "\n",
    "# def list_directory_structure(root_dir):\n",
    "#     image_extensions = ['.png', '.jpg', '.jpeg', '.gif', '.bmp', '.tiff']\n",
    "#     for root, dirs, files in os.walk(root_dir):\n",
    "#         # Exclude hidden directories\n",
    "#         dirs[:] = [d for d in dirs if not d.startswith('.')]\n",
    "#         level = root.replace(root_dir, '').count(os.sep)\n",
    "#         indent = ' ' * 4 * (level)\n",
    "#         print('{}{}/'.format(indent, os.path.basename(root)))\n",
    "#         subindent = ' ' * 4 * (level + 1)\n",
    "#         for f in files:\n",
    "#             if not f.startswith('.') and not any(f.lower().endswith(ext) for ext in image_extensions):\n",
    "#                 print('{}{}'.format(subindent, f))\n",
    "\n",
    "# # Get the current working directory\n",
    "# project_directory = os.getcwd()\n",
    "# list_directory_structure(project_directory)\n"
   ]
  },
  {
   "cell_type": "code",
   "execution_count": null,
   "id": "2f637faa-361d-4ae6-a8f0-8e4fd3c23be5",
   "metadata": {},
   "outputs": [],
   "source": [
    "# import os\n",
    "\n",
    "# def list_directory_structure(root_dir):\n",
    "#     for dirpath, dirnames, filenames in os.walk(root_dir):\n",
    "#         level = dirpath.replace(root_dir, '').count(os.sep)\n",
    "#         indent = ' ' * 4 * (level)\n",
    "#         print(f\"{indent}{os.path.basename(dirpath)}/\")\n",
    "#         subindent = ' ' * 4 * (level + 1)\n",
    "#         for f in filenames:\n",
    "#             if not f.startswith('.') and not f.endswith('.ipynb_checkpoints'):\n",
    "#                 print(f\"{subindent}{f}\")\n",
    "\n",
    "# root_dir = os.getcwd()\n",
    "# list_directory_structure(root_dir)\n"
   ]
  },
  {
   "cell_type": "code",
   "execution_count": null,
   "id": "7372b6a3-0180-42b9-949d-5cdfb22819ff",
   "metadata": {},
   "outputs": [],
   "source": [
    "# import os\n",
    "\n",
    "# def list_classes(directory):\n",
    "#     classes = []\n",
    "#     for root, dirs, files in os.walk(directory):\n",
    "#         for d in dirs:\n",
    "#             if not d.startswith('.'):\n",
    "#                 classes.append(d)\n",
    "#         # Stop recursion at the top-level directory\n",
    "#         break\n",
    "#     return classes\n",
    "\n",
    "# train_classes = list_classes('./datasets/gtsrb/train')\n",
    "# test_classes = list_classes('./datasets/gtsrb/val')\n",
    "\n",
    "# print(f\"Train Classes ({len(train_classes)}): {train_classes}\")\n",
    "# print(f\"Test Classes ({len(test_classes)}): {test_classes}\")\n",
    "\n",
    "# if len(train_classes) != 43 or len(test_classes) != 43:\n",
    "#     print(\"Warning: The number of classes does not match the expected 43 classes.\")\n"
   ]
  },
  {
   "cell_type": "code",
   "execution_count": null,
   "id": "ac301fc3-b4ec-480f-bc7b-a388bd66df2c",
   "metadata": {},
   "outputs": [],
   "source": []
  }
 ],
 "metadata": {
  "kernelspec": {
   "display_name": "Python 3 (ipykernel)",
   "language": "python",
   "name": "python3"
  },
  "language_info": {
   "codemirror_mode": {
    "name": "ipython",
    "version": 3
   },
   "file_extension": ".py",
   "mimetype": "text/x-python",
   "name": "python",
   "nbconvert_exporter": "python",
   "pygments_lexer": "ipython3",
   "version": "3.11.0rc1"
  }
 },
 "nbformat": 4,
 "nbformat_minor": 5
}
