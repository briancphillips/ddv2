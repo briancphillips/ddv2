{
 "cells": [
  {
   "cell_type": "code",
   "execution_count": 1,
   "id": "d1dae989-3aa3-4957-96d6-062148653d40",
   "metadata": {
    "scrolled": true
   },
   "outputs": [
    {
     "name": "stderr",
     "output_type": "stream",
     "text": [
      "2024-06-09 21:54:42,034 - INFO - Config updated to: {'IMG_WIDTH': 30, 'IMG_HEIGHT': 30, 'BATCH_SIZE': 32, 'EPOCHS': 20, 'SEED': 42, 'DATASET': 'GTSRB', 'train_data_dir': './datasets/gtsrb/train', 'validation_data_dir': './datasets/gtsrb/val', 'k': 5, 'num_iterations': 10, 'learning_rate': 0.001, 'regularization': 0.01, 'batch_size': 64, 'num_models': 5, 'mse_threshold': 0.05, 'attack_type': 'pgd', 'evaluation': 'Clean', 'source_class': 3, 'target_class': 7}\n",
      "2024-06-09 21:54:42,035 - INFO - Pipeline started with config: {'IMG_WIDTH': 30, 'IMG_HEIGHT': 30, 'BATCH_SIZE': 32, 'EPOCHS': 20, 'SEED': 42, 'DATASET': 'GTSRB', 'train_data_dir': './datasets/gtsrb/train', 'validation_data_dir': './datasets/gtsrb/val', 'k': 5, 'num_iterations': 10, 'learning_rate': 0.001, 'regularization': 0.01, 'batch_size': 64, 'num_models': 5, 'mse_threshold': 0.05, 'attack_type': 'pgd', 'evaluation': 'Clean', 'source_class': 3, 'target_class': 7}\n"
     ]
    },
    {
     "name": "stdout",
     "output_type": "stream",
     "text": [
      "Training classes: ['32', '35', '34', '33', '20', '18', '27', '9', '0', '11', '7', '29', '16', '42', '6', '28', '17', '1', '10', '19', '26', '8', '21', '38', '36', '31', '30', '37', '39', '41', '24', '23', '4', '15', '3', '12', '40', '2', '13', '5', '14', '22', '25']\n",
      "Validation classes: ['32', '35', '34', '33', '20', '18', '27', '9', '0', '11', '7', '29', '16', '42', '6', '28', '17', '1', '10', '19', '26', '8', '21', '38', '36', '31', '30', '37', '39', '41', '24', '23', '4', '15', '3', '12', '40', '2', '13', '5', '14', '22', '25']\n",
      "Number of classes in training data: 43\n",
      "Number of classes in validation data: 43\n",
      "Found 27446 images belonging to 43 classes.\n",
      "Found 11763 images belonging to 43 classes.\n",
      "Class indices (train): {'0': 0, '1': 1, '10': 2, '11': 3, '12': 4, '13': 5, '14': 6, '15': 7, '16': 8, '17': 9, '18': 10, '19': 11, '2': 12, '20': 13, '21': 14, '22': 15, '23': 16, '24': 17, '25': 18, '26': 19, '27': 20, '28': 21, '29': 22, '3': 23, '30': 24, '31': 25, '32': 26, '33': 27, '34': 28, '35': 29, '36': 30, '37': 31, '38': 32, '39': 33, '4': 34, '40': 35, '41': 36, '42': 37, '5': 38, '6': 39, '7': 40, '8': 41, '9': 42}\n",
      "Class indices (validation): {'0': 0, '1': 1, '10': 2, '11': 3, '12': 4, '13': 5, '14': 6, '15': 7, '16': 8, '17': 9, '18': 10, '19': 11, '2': 12, '20': 13, '21': 14, '22': 15, '23': 16, '24': 17, '25': 18, '26': 19, '27': 20, '28': 21, '29': 22, '3': 23, '30': 24, '31': 25, '32': 26, '33': 27, '34': 28, '35': 29, '36': 30, '37': 31, '38': 32, '39': 33, '4': 34, '40': 35, '41': 36, '42': 37, '5': 38, '6': 39, '7': 40, '8': 41, '9': 42}\n",
      "Steps per epoch (train): 857\n",
      "Steps per epoch (validation): 367\n",
      "Loading existing CNN model...\n"
     ]
    },
    {
     "name": "stderr",
     "output_type": "stream",
     "text": [
      "2024-06-09 21:54:42.977859: I metal_plugin/src/device/metal_device.cc:1154] Metal device set to: Apple M2\n",
      "2024-06-09 21:54:42.977882: I metal_plugin/src/device/metal_device.cc:296] systemMemory: 24.00 GB\n",
      "2024-06-09 21:54:42.977890: I metal_plugin/src/device/metal_device.cc:313] maxCacheSize: 8.00 GB\n",
      "2024-06-09 21:54:42.977906: I tensorflow/core/common_runtime/pluggable_device/pluggable_device_factory.cc:305] Could not identify NUMA node of platform GPU ID 0, defaulting to 0. Your kernel may not have been built with NUMA support.\n",
      "2024-06-09 21:54:42.977917: I tensorflow/core/common_runtime/pluggable_device/pluggable_device_factory.cc:271] Created TensorFlow device (/job:localhost/replica:0/task:0/device:GPU:0 with 0 MB memory) -> physical PluggableDevice (device: 0, name: METAL, pci bus id: <undefined>)\n",
      "2024-06-09 21:54:43,253 - WARNING - Compiled the loaded model, but the compiled metrics have yet to be built. `model.compile_metrics` will be empty until you train or evaluate the model.\n",
      "2024-06-09 21:54:43.377685: I tensorflow/core/grappler/optimizers/custom_graph_optimizer_registry.cc:117] Plugin optimizer for device_type GPU is enabled.\n",
      "/Users/brian/miniconda3/envs/jupyter_env/lib/python3.9/site-packages/keras/src/layers/core/dense.py:87: UserWarning: Do not pass an `input_shape`/`input_dim` argument to a layer. When using Sequential models, prefer using an `Input(shape)` object as the first layer in the model instead.\n",
      "  super().__init__(activity_regularizer=activity_regularizer, **kwargs)\n",
      "2024-06-09 21:55:20,982 - WARNING - Compiled the loaded model, but the compiled metrics have yet to be built. `model.compile_metrics` will be empty until you train or evaluate the model.\n"
     ]
    },
    {
     "name": "stdout",
     "output_type": "stream",
     "text": [
      "Surrogate model loaded from surrogate_model_gtsrb.h5\n",
      "Use /var/folders/xt/0mft9cgn4mn92m9qlqqvh6z80000gn/T/tmp50769gj_ as temporary training directory\n"
     ]
    },
    {
     "name": "stderr",
     "output_type": "stream",
     "text": [
      "/Users/brian/miniconda3/envs/jupyter_env/lib/python3.9/site-packages/keras/src/layers/core/input_layer.py:25: UserWarning: Argument `input_shape` is deprecated. Use `shape` instead.\n",
      "  warnings.warn(\n",
      "2024-06-09 21:55:21,001 - INFO - Use /var/folders/xt/0mft9cgn4mn92m9qlqqvh6z80000gn/T/tmp50769gj_ as temporary training directory\n"
     ]
    },
    {
     "name": "stdout",
     "output_type": "stream",
     "text": [
      "Use /var/folders/xt/0mft9cgn4mn92m9qlqqvh6z80000gn/T/tmpkx6cevfe as temporary training directory\n"
     ]
    },
    {
     "name": "stderr",
     "output_type": "stream",
     "text": [
      "2024-06-09 21:55:21,003 - INFO - Use /var/folders/xt/0mft9cgn4mn92m9qlqqvh6z80000gn/T/tmpkx6cevfe as temporary training directory\n"
     ]
    },
    {
     "name": "stdout",
     "output_type": "stream",
     "text": [
      "Evaluating with KNN\n",
      "Evaluating with SVM\n",
      "\u001b[1m367/367\u001b[0m \u001b[32m━━━━━━━━━━━━━━━━━━━━\u001b[0m\u001b[37m\u001b[0m \u001b[1m0s\u001b[0m 650us/step\n",
      "Evaluating with Random Forest\n"
     ]
    },
    {
     "name": "stderr",
     "output_type": "stream",
     "text": [
      "/Users/brian/miniconda3/envs/jupyter_env/lib/python3.9/site-packages/sklearn/metrics/_classification.py:1517: UndefinedMetricWarning: Precision is ill-defined and being set to 0.0 in labels with no predicted samples. Use `zero_division` parameter to control this behavior.\n",
      "  _warn_prf(average, modifier, f\"{metric.capitalize()} is\", len(result))\n",
      "/Users/brian/miniconda3/envs/jupyter_env/lib/python3.9/site-packages/sklearn/metrics/_classification.py:1517: UndefinedMetricWarning: Precision is ill-defined and being set to 0.0 in labels with no predicted samples. Use `zero_division` parameter to control this behavior.\n",
      "  _warn_prf(average, modifier, f\"{metric.capitalize()} is\", len(result))\n",
      "/Users/brian/miniconda3/envs/jupyter_env/lib/python3.9/site-packages/sklearn/metrics/_classification.py:1517: UndefinedMetricWarning: Precision is ill-defined and being set to 0.0 in labels with no predicted samples. Use `zero_division` parameter to control this behavior.\n",
      "  _warn_prf(average, modifier, f\"{metric.capitalize()} is\", len(result))\n"
     ]
    },
    {
     "name": "stdout",
     "output_type": "stream",
     "text": [
      "Warning: The model was called directly (i.e. using `model(data)` instead of using `model.predict(data)`) before being trained. The model will only return zeros until trained. The output shape might change after training Tensor(\"inputs:0\", shape=(None, 2700), dtype=float32)\n"
     ]
    },
    {
     "name": "stderr",
     "output_type": "stream",
     "text": [
      "2024-06-09 21:56:03,538 - WARNING - The model was called directly (i.e. using `model(data)` instead of using `model.predict(data)`) before being trained. The model will only return zeros until trained. The output shape might change after training Tensor(\"inputs:0\", shape=(None, 2700), dtype=float32)\n"
     ]
    },
    {
     "name": "stdout",
     "output_type": "stream",
     "text": [
      "367/367 [==============================] - 2s 577us/step\n",
      "Evaluating with Decision Tree\n",
      "Warning: The model was called directly (i.e. using `model(data)` instead of using `model.predict(data)`) before being trained. The model will only return zeros until trained. The output shape might change after training Tensor(\"inputs:0\", shape=(None, 2700), dtype=float32)\n"
     ]
    },
    {
     "name": "stderr",
     "output_type": "stream",
     "text": [
      "/Users/brian/miniconda3/envs/jupyter_env/lib/python3.9/site-packages/sklearn/metrics/_classification.py:1517: UndefinedMetricWarning: Precision is ill-defined and being set to 0.0 in labels with no predicted samples. Use `zero_division` parameter to control this behavior.\n",
      "  _warn_prf(average, modifier, f\"{metric.capitalize()} is\", len(result))\n",
      "/Users/brian/miniconda3/envs/jupyter_env/lib/python3.9/site-packages/sklearn/metrics/_classification.py:1517: UndefinedMetricWarning: Precision is ill-defined and being set to 0.0 in labels with no predicted samples. Use `zero_division` parameter to control this behavior.\n",
      "  _warn_prf(average, modifier, f\"{metric.capitalize()} is\", len(result))\n",
      "/Users/brian/miniconda3/envs/jupyter_env/lib/python3.9/site-packages/sklearn/metrics/_classification.py:1517: UndefinedMetricWarning: Precision is ill-defined and being set to 0.0 in labels with no predicted samples. Use `zero_division` parameter to control this behavior.\n",
      "  _warn_prf(average, modifier, f\"{metric.capitalize()} is\", len(result))\n",
      "2024-06-09 21:56:04,141 - WARNING - The model was called directly (i.e. using `model(data)` instead of using `model.predict(data)`) before being trained. The model will only return zeros until trained. The output shape might change after training Tensor(\"inputs:0\", shape=(None, 2700), dtype=float32)\n"
     ]
    },
    {
     "name": "stdout",
     "output_type": "stream",
     "text": [
      "367/367 [==============================] - 0s 578us/step\n",
      "Evaluating with Logistic Regression\n"
     ]
    },
    {
     "name": "stderr",
     "output_type": "stream",
     "text": [
      "/Users/brian/miniconda3/envs/jupyter_env/lib/python3.9/site-packages/sklearn/metrics/_classification.py:1517: UndefinedMetricWarning: Precision is ill-defined and being set to 0.0 in labels with no predicted samples. Use `zero_division` parameter to control this behavior.\n",
      "  _warn_prf(average, modifier, f\"{metric.capitalize()} is\", len(result))\n",
      "/Users/brian/miniconda3/envs/jupyter_env/lib/python3.9/site-packages/sklearn/metrics/_classification.py:1517: UndefinedMetricWarning: Precision is ill-defined and being set to 0.0 in labels with no predicted samples. Use `zero_division` parameter to control this behavior.\n",
      "  _warn_prf(average, modifier, f\"{metric.capitalize()} is\", len(result))\n",
      "/Users/brian/miniconda3/envs/jupyter_env/lib/python3.9/site-packages/sklearn/metrics/_classification.py:1517: UndefinedMetricWarning: Precision is ill-defined and being set to 0.0 in labels with no predicted samples. Use `zero_division` parameter to control this behavior.\n",
      "  _warn_prf(average, modifier, f\"{metric.capitalize()} is\", len(result))\n"
     ]
    },
    {
     "name": "stdout",
     "output_type": "stream",
     "text": [
      "\u001b[1m367/367\u001b[0m \u001b[32m━━━━━━━━━━━━━━━━━━━━\u001b[0m\u001b[37m\u001b[0m \u001b[1m0s\u001b[0m 651us/step\n",
      "Evaluating DynaDetect on clean data...\n",
      "Training DynaDetect with config: {'IMG_WIDTH': 30, 'IMG_HEIGHT': 30, 'BATCH_SIZE': 32, 'EPOCHS': 20, 'SEED': 42, 'DATASET': 'GTSRB', 'train_data_dir': './datasets/gtsrb/train', 'validation_data_dir': './datasets/gtsrb/val', 'k': 5, 'num_iterations': 10, 'learning_rate': 0.001, 'regularization': 0.01, 'batch_size': 64, 'num_models': 5, 'mse_threshold': 0.05, 'attack_type': 'pgd', 'evaluation': 'Clean', 'source_class': 3, 'target_class': 7, 'steps_per_epoch_train': 857, 'steps_per_epoch_val': 367}\n"
     ]
    },
    {
     "name": "stderr",
     "output_type": "stream",
     "text": [
      "/Users/brian/miniconda3/envs/jupyter_env/lib/python3.9/site-packages/sklearn/metrics/_classification.py:1517: UndefinedMetricWarning: Precision is ill-defined and being set to 0.0 in labels with no predicted samples. Use `zero_division` parameter to control this behavior.\n",
      "  _warn_prf(average, modifier, f\"{metric.capitalize()} is\", len(result))\n",
      "/Users/brian/miniconda3/envs/jupyter_env/lib/python3.9/site-packages/sklearn/metrics/_classification.py:1517: UndefinedMetricWarning: Precision is ill-defined and being set to 0.0 in labels with no predicted samples. Use `zero_division` parameter to control this behavior.\n",
      "  _warn_prf(average, modifier, f\"{metric.capitalize()} is\", len(result))\n",
      "/Users/brian/miniconda3/envs/jupyter_env/lib/python3.9/site-packages/sklearn/metrics/_classification.py:1517: UndefinedMetricWarning: Precision is ill-defined and being set to 0.0 in labels with no predicted samples. Use `zero_division` parameter to control this behavior.\n",
      "  _warn_prf(average, modifier, f\"{metric.capitalize()} is\", len(result))\n",
      "                                                                                                                     "
     ]
    },
    {
     "name": "stdout",
     "output_type": "stream",
     "text": [
      "\u001b[1m101/184\u001b[0m \u001b[32m━━━━━━━━━━\u001b[0m\u001b[37m━━━━━━━━━━\u001b[0m \u001b[1m0s\u001b[0m 1ms/step"
     ]
    },
    {
     "name": "stderr",
     "output_type": "stream",
     "text": [
      "\r"
     ]
    },
    {
     "name": "stdout",
     "output_type": "stream",
     "text": [
      "\u001b[1m184/184\u001b[0m \u001b[32m━━━━━━━━━━━━━━━━━━━━\u001b[0m\u001b[37m\u001b[0m \u001b[1m0s\u001b[0m 1ms/step\n",
      "\u001b[1m184/184\u001b[0m \u001b[32m━━━━━━━━━━━━━━━━━━━━\u001b[0m\u001b[37m\u001b[0m \u001b[1m0s\u001b[0m 1ms/step  \n",
      "\u001b[1m184/184\u001b[0m \u001b[32m━━━━━━━━━━━━━━━━━━━━\u001b[0m\u001b[37m\u001b[0m \u001b[1m0s\u001b[0m 1ms/step\n",
      "\u001b[1m184/184\u001b[0m \u001b[32m━━━━━━━━━━━━━━━━━━━━\u001b[0m\u001b[37m\u001b[0m \u001b[1m0s\u001b[0m 1ms/step  \n",
      "\u001b[1m184/184\u001b[0m \u001b[32m━━━━━━━━━━━━━━━━━━━━\u001b[0m\u001b[37m\u001b[0m \u001b[1m0s\u001b[0m 1ms/step\n",
      "\u001b[1m429/429\u001b[0m \u001b[32m━━━━━━━━━━━━━━━━━━━━\u001b[0m\u001b[37m\u001b[0m \u001b[1m1s\u001b[0m 1ms/step\n",
      "\u001b[1m429/429\u001b[0m \u001b[32m━━━━━━━━━━━━━━━━━━━━\u001b[0m\u001b[37m\u001b[0m \u001b[1m1s\u001b[0m 1ms/step\n",
      "\u001b[1m429/429\u001b[0m \u001b[32m━━━━━━━━━━━━━━━━━━━━\u001b[0m\u001b[37m\u001b[0m \u001b[1m0s\u001b[0m 962us/step\n",
      "\u001b[1m429/429\u001b[0m \u001b[32m━━━━━━━━━━━━━━━━━━━━\u001b[0m\u001b[37m\u001b[0m \u001b[1m0s\u001b[0m 898us/step\n",
      "\u001b[1m429/429\u001b[0m \u001b[32m━━━━━━━━━━━━━━━━━━━━\u001b[0m\u001b[37m\u001b[0m \u001b[1m1s\u001b[0m 1ms/step\n"
     ]
    },
    {
     "name": "stderr",
     "output_type": "stream",
     "text": [
      "2024-06-09 22:01:04,929 - INFO - Pipeline completed\n",
      "2024-06-09 22:01:04,935 - INFO - Config updated to: {'IMG_WIDTH': 30, 'IMG_HEIGHT': 30, 'BATCH_SIZE': 32, 'EPOCHS': 20, 'SEED': 42, 'DATASET': 'GTSRB', 'train_data_dir': './datasets/gtsrb/train', 'validation_data_dir': './datasets/gtsrb/val', 'k': 5, 'num_iterations': 10, 'learning_rate': 0.001, 'regularization': 0.01, 'batch_size': 64, 'num_models': 5, 'mse_threshold': 0.05, 'attack_type': 'pgd', 'evaluation': 'Poisoned', 'source_class': 3, 'target_class': 7, 'steps_per_epoch_train': 857, 'steps_per_epoch_val': 367}\n",
      "2024-06-09 22:01:04,935 - INFO - Pipeline started with config: {'IMG_WIDTH': 30, 'IMG_HEIGHT': 30, 'BATCH_SIZE': 32, 'EPOCHS': 20, 'SEED': 42, 'DATASET': 'GTSRB', 'train_data_dir': './datasets/gtsrb/train', 'validation_data_dir': './datasets/gtsrb/val', 'k': 5, 'num_iterations': 10, 'learning_rate': 0.001, 'regularization': 0.01, 'batch_size': 64, 'num_models': 5, 'mse_threshold': 0.05, 'attack_type': 'pgd', 'evaluation': 'Poisoned', 'source_class': 3, 'target_class': 7, 'steps_per_epoch_train': 857, 'steps_per_epoch_val': 367}\n"
     ]
    },
    {
     "name": "stdout",
     "output_type": "stream",
     "text": [
      "Before replacement:\n",
      "Unique labels in y_test_evaluation: [ 0  1  2  3  4  5  6  7  8  9 10 11 12 13 14 15 16 17 18 19 20 21 22 23\n",
      " 24 25 26 27 28 29 30 31 32 33 34 35 36 37 38 39 40 41 42]\n",
      "Unique labels in dynadetect_predictions: [-1  0  1  2  3  4  5  6  7  8  9 10 11 12 13 14 15 16 17 18 19 20 21 22\n",
      " 23 24 25 26 27 28 29 30 31 32 33 34 35 36 37 38 39 40 41 42]\n",
      "After replacement:\n",
      "Unique labels in dynadetect_predictions: [ 0  1  2  3  4  5  6  7  8  9 10 11 12 13 14 15 16 17 18 19 20 21 22 23\n",
      " 24 25 26 27 28 29 30 31 32 33 34 35 36 37 38 39 40 41 42]\n",
      "Accuracies: {'KNN': 0.47973433242506813, 'SVM': 0.18119891008174388, 'Random Forest': 0.005449591280653951, 'Decision Tree': 0.005449591280653951, 'Logistic Regression': 0.4025885558583106, 'DynaDetect': 0.5398501362397821}\n",
      "Evaluation times: {'KNN': 0.0245208740234375, 'SVM': 29.847020149230957, 'Logistic Regression': 22.721431255340576}\n",
      "Number of poisoned images: 0\n",
      "Classification reports: {'KNN': {'Class 0': {'precision': 0.17777777777777778, 'recall': 0.25, 'f1-score': 0.2077922077922078, 'support': 64.0}, 'Class 1': {'precision': 0.324974924774323, 'recall': 0.4909090909090909, 'f1-score': 0.3910681955340978, 'support': 660.0}, 'Class 2': {'precision': 0.4707379134860051, 'recall': 0.5977382875605816, 'f1-score': 0.5266903914590747, 'support': 619.0}, 'Class 3': {'precision': 0.5217391304347826, 'recall': 0.30612244897959184, 'f1-score': 0.3858520900321543, 'support': 392.0}, 'Class 4': {'precision': 0.660377358490566, 'recall': 0.6511627906976745, 'f1-score': 0.6557377049180327, 'support': 645.0}, 'Class 5': {'precision': 0.5436013590033975, 'recall': 0.7395993836671803, 'f1-score': 0.6266318537859008, 'support': 649.0}, 'Class 6': {'precision': 0.8023255813953488, 'recall': 0.2804878048780488, 'f1-score': 0.41566265060240964, 'support': 246.0}, 'Class 7': {'precision': 0.35911602209944754, 'recall': 0.33163265306122447, 'f1-score': 0.3448275862068966, 'support': 196.0}, 'Class 8': {'precision': 0.6292134831460674, 'recall': 0.448, 'f1-score': 0.5233644859813084, 'support': 125.0}, 'Class 9': {'precision': 0.8786764705882353, 'recall': 0.7091988130563798, 'f1-score': 0.7848932676518884, 'support': 337.0}, 'Class 10': {'precision': 0.43067226890756305, 'recall': 0.5694444444444444, 'f1-score': 0.4904306220095694, 'support': 360.0}, 'Class 11': {'precision': 0.16101694915254236, 'recall': 0.31666666666666665, 'f1-score': 0.21348314606741572, 'support': 60.0}, 'Class 12': {'precision': 0.3865546218487395, 'recall': 0.39655172413793105, 'f1-score': 0.39148936170212767, 'support': 696.0}, 'Class 13': {'precision': 0.3308270676691729, 'recall': 0.4943820224719101, 'f1-score': 0.3963963963963964, 'support': 89.0}, 'Class 14': {'precision': 0.6851851851851852, 'recall': 0.3274336283185841, 'f1-score': 0.4431137724550898, 'support': 113.0}, 'Class 15': {'precision': 0.4368932038834951, 'recall': 0.4787234042553192, 'f1-score': 0.45685279187817257, 'support': 94.0}, 'Class 16': {'precision': 0.5789473684210527, 'recall': 0.3055555555555556, 'f1-score': 0.4, 'support': 144.0}, 'Class 17': {'precision': 0.42105263157894735, 'recall': 0.10526315789473684, 'f1-score': 0.16842105263157894, 'support': 76.0}, 'Class 18': {'precision': 0.47474747474747475, 'recall': 0.3211845102505695, 'f1-score': 0.38315217391304346, 'support': 439.0}, 'Class 19': {'precision': 0.673469387755102, 'recall': 0.5351351351351351, 'f1-score': 0.5963855421686747, 'support': 185.0}, 'Class 20': {'precision': 0.36538461538461536, 'recall': 0.2714285714285714, 'f1-score': 0.3114754098360656, 'support': 70.0}, 'Class 21': {'precision': 0.5753424657534246, 'recall': 0.25766871165644173, 'f1-score': 0.3559322033898305, 'support': 163.0}, 'Class 22': {'precision': 0.3125, 'recall': 0.19736842105263158, 'f1-score': 0.24193548387096775, 'support': 76.0}, 'Class 23': {'precision': 0.3589108910891089, 'recall': 0.35279805352798055, 'f1-score': 0.3558282208588957, 'support': 411.0}, 'Class 24': {'precision': 0.5185185185185185, 'recall': 0.42105263157894735, 'f1-score': 0.46473029045643155, 'support': 133.0}, 'Class 25': {'precision': 0.3905325443786982, 'recall': 0.55, 'f1-score': 0.45674740484429066, 'support': 240.0}, 'Class 26': {'precision': 0.43, 'recall': 0.581081081081081, 'f1-score': 0.4942528735632184, 'support': 74.0}, 'Class 27': {'precision': 0.7142857142857143, 'recall': 0.4009433962264151, 'f1-score': 0.513595166163142, 'support': 212.0}, 'Class 28': {'precision': 0.7476635514018691, 'recall': 0.5925925925925926, 'f1-score': 0.6611570247933884, 'support': 135.0}, 'Class 29': {'precision': 0.6657142857142857, 'recall': 0.6246648793565683, 'f1-score': 0.6445366528354081, 'support': 373.0}, 'Class 30': {'precision': 0.5517241379310345, 'recall': 0.38095238095238093, 'f1-score': 0.4507042253521127, 'support': 126.0}, 'Class 31': {'precision': 0.7142857142857143, 'recall': 0.373134328358209, 'f1-score': 0.49019607843137253, 'support': 67.0}, 'Class 32': {'precision': 0.5869565217391305, 'recall': 0.6028708133971292, 'f1-score': 0.5948072383949646, 'support': 627.0}, 'Class 33': {'precision': 0.8095238095238095, 'recall': 0.40963855421686746, 'f1-score': 0.544, 'support': 83.0}, 'Class 34': {'precision': 0.444234404536862, 'recall': 0.38971807628524047, 'f1-score': 0.41519434628975266, 'support': 603.0}, 'Class 35': {'precision': 0.582089552238806, 'recall': 0.38613861386138615, 'f1-score': 0.4642857142857143, 'support': 101.0}, 'Class 36': {'precision': 0.56, 'recall': 0.3783783783783784, 'f1-score': 0.45161290322580644, 'support': 74.0}, 'Class 37': {'precision': 0.7567567567567568, 'recall': 0.56, 'f1-score': 0.6436781609195402, 'support': 50.0}, 'Class 38': {'precision': 0.3051948051948052, 'recall': 0.5099457504520796, 'f1-score': 0.3818551117129316, 'support': 553.0}, 'Class 39': {'precision': 0.8431372549019608, 'recall': 0.7049180327868853, 'f1-score': 0.7678571428571429, 'support': 122.0}, 'Class 40': {'precision': 0.3826291079812207, 'recall': 0.3946731234866828, 'f1-score': 0.38855780691299163, 'support': 413.0}, 'Class 41': {'precision': 0.3991130820399113, 'recall': 0.4265402843601896, 'f1-score': 0.41237113402061853, 'support': 422.0}, 'Class 42': {'precision': 0.6856060606060606, 'recall': 0.4238875878220141, 'f1-score': 0.5238784370477568, 'support': 427.0}, 'accuracy': 0.47973433242506813, 'macro avg': {'precision': 0.5266979063862217, 'recall': 0.4382694368557977, 'f1-score': 0.4611961470522879, 'support': 11744.0}, 'weighted avg': {'precision': 0.511603112568095, 'recall': 0.47973433242506813, 'f1-score': 0.4803969823925788, 'support': 11744.0}}, 'SVM': {'Class 0': {'precision': 0.0, 'recall': 0.0, 'f1-score': 0.0, 'support': 64.0}, 'Class 1': {'precision': 0.1154041687849517, 'recall': 0.6878787878787879, 'f1-score': 0.1976491075315629, 'support': 660.0}, 'Class 2': {'precision': 0.21348314606741572, 'recall': 0.030694668820678513, 'f1-score': 0.05367231638418079, 'support': 619.0}, 'Class 3': {'precision': 0.0, 'recall': 0.0, 'f1-score': 0.0, 'support': 392.0}, 'Class 4': {'precision': 0.5431034482758621, 'recall': 0.4883720930232558, 'f1-score': 0.5142857142857142, 'support': 645.0}, 'Class 5': {'precision': 0.3443649373881932, 'recall': 0.5932203389830508, 'f1-score': 0.4357668364459536, 'support': 649.0}, 'Class 6': {'precision': 0.0, 'recall': 0.0, 'f1-score': 0.0, 'support': 246.0}, 'Class 7': {'precision': 0.0, 'recall': 0.0, 'f1-score': 0.0, 'support': 196.0}, 'Class 8': {'precision': 0.0, 'recall': 0.0, 'f1-score': 0.0, 'support': 125.0}, 'Class 9': {'precision': 0.0, 'recall': 0.0, 'f1-score': 0.0, 'support': 337.0}, 'Class 10': {'precision': 0.0, 'recall': 0.0, 'f1-score': 0.0, 'support': 360.0}, 'Class 11': {'precision': 0.0, 'recall': 0.0, 'f1-score': 0.0, 'support': 60.0}, 'Class 12': {'precision': 0.11430823807646827, 'recall': 0.4166666666666667, 'f1-score': 0.17939993813795235, 'support': 696.0}, 'Class 13': {'precision': 0.0, 'recall': 0.0, 'f1-score': 0.0, 'support': 89.0}, 'Class 14': {'precision': 0.0, 'recall': 0.0, 'f1-score': 0.0, 'support': 113.0}, 'Class 15': {'precision': 0.0, 'recall': 0.0, 'f1-score': 0.0, 'support': 94.0}, 'Class 16': {'precision': 0.0, 'recall': 0.0, 'f1-score': 0.0, 'support': 144.0}, 'Class 17': {'precision': 0.0, 'recall': 0.0, 'f1-score': 0.0, 'support': 76.0}, 'Class 18': {'precision': 0.0, 'recall': 0.0, 'f1-score': 0.0, 'support': 439.0}, 'Class 19': {'precision': 0.0, 'recall': 0.0, 'f1-score': 0.0, 'support': 185.0}, 'Class 20': {'precision': 0.0, 'recall': 0.0, 'f1-score': 0.0, 'support': 70.0}, 'Class 21': {'precision': 0.0, 'recall': 0.0, 'f1-score': 0.0, 'support': 163.0}, 'Class 22': {'precision': 0.0, 'recall': 0.0, 'f1-score': 0.0, 'support': 76.0}, 'Class 23': {'precision': 0.16115702479338842, 'recall': 0.0948905109489051, 'f1-score': 0.11944869831546708, 'support': 411.0}, 'Class 24': {'precision': 0.0, 'recall': 0.0, 'f1-score': 0.0, 'support': 133.0}, 'Class 25': {'precision': 0.0, 'recall': 0.0, 'f1-score': 0.0, 'support': 240.0}, 'Class 26': {'precision': 0.0, 'recall': 0.0, 'f1-score': 0.0, 'support': 74.0}, 'Class 27': {'precision': 0.0, 'recall': 0.0, 'f1-score': 0.0, 'support': 212.0}, 'Class 28': {'precision': 0.0, 'recall': 0.0, 'f1-score': 0.0, 'support': 135.0}, 'Class 29': {'precision': 0.0, 'recall': 0.0, 'f1-score': 0.0, 'support': 373.0}, 'Class 30': {'precision': 0.0, 'recall': 0.0, 'f1-score': 0.0, 'support': 126.0}, 'Class 31': {'precision': 0.0, 'recall': 0.0, 'f1-score': 0.0, 'support': 67.0}, 'Class 32': {'precision': 0.2005856515373353, 'recall': 0.8740031897926634, 'f1-score': 0.32628758559094967, 'support': 627.0}, 'Class 33': {'precision': 0.0, 'recall': 0.0, 'f1-score': 0.0, 'support': 83.0}, 'Class 34': {'precision': 0.13695652173913042, 'recall': 0.1044776119402985, 'f1-score': 0.11853245531514581, 'support': 603.0}, 'Class 35': {'precision': 0.0, 'recall': 0.0, 'f1-score': 0.0, 'support': 101.0}, 'Class 36': {'precision': 0.0, 'recall': 0.0, 'f1-score': 0.0, 'support': 74.0}, 'Class 37': {'precision': 0.0, 'recall': 0.0, 'f1-score': 0.0, 'support': 50.0}, 'Class 38': {'precision': 0.35714285714285715, 'recall': 0.027124773960216998, 'f1-score': 0.05042016806722689, 'support': 553.0}, 'Class 39': {'precision': 0.0, 'recall': 0.0, 'f1-score': 0.0, 'support': 122.0}, 'Class 40': {'precision': 0.0, 'recall': 0.0, 'f1-score': 0.0, 'support': 413.0}, 'Class 41': {'precision': 0.0, 'recall': 0.0, 'f1-score': 0.0, 'support': 422.0}, 'Class 42': {'precision': 0.0, 'recall': 0.0, 'f1-score': 0.0, 'support': 427.0}, 'accuracy': 0.18119891008174388, 'macro avg': {'precision': 0.0508489766001303, 'recall': 0.077147177721268, 'f1-score': 0.046406112094747744, 'support': 11744.0}, 'weighted avg': {'precision': 0.11356892407447004, 'recall': 0.18119891008174388, 'f1-score': 0.10695623714183887, 'support': 11744.0}}, 'Random Forest': {'Class 0': {'precision': 0.005449591280653951, 'recall': 1.0, 'f1-score': 0.01084010840108401, 'support': 64.0}, 'Class 1': {'precision': 0.0, 'recall': 0.0, 'f1-score': 0.0, 'support': 660.0}, 'Class 2': {'precision': 0.0, 'recall': 0.0, 'f1-score': 0.0, 'support': 619.0}, 'Class 3': {'precision': 0.0, 'recall': 0.0, 'f1-score': 0.0, 'support': 392.0}, 'Class 4': {'precision': 0.0, 'recall': 0.0, 'f1-score': 0.0, 'support': 645.0}, 'Class 5': {'precision': 0.0, 'recall': 0.0, 'f1-score': 0.0, 'support': 649.0}, 'Class 6': {'precision': 0.0, 'recall': 0.0, 'f1-score': 0.0, 'support': 246.0}, 'Class 7': {'precision': 0.0, 'recall': 0.0, 'f1-score': 0.0, 'support': 196.0}, 'Class 8': {'precision': 0.0, 'recall': 0.0, 'f1-score': 0.0, 'support': 125.0}, 'Class 9': {'precision': 0.0, 'recall': 0.0, 'f1-score': 0.0, 'support': 337.0}, 'Class 10': {'precision': 0.0, 'recall': 0.0, 'f1-score': 0.0, 'support': 360.0}, 'Class 11': {'precision': 0.0, 'recall': 0.0, 'f1-score': 0.0, 'support': 60.0}, 'Class 12': {'precision': 0.0, 'recall': 0.0, 'f1-score': 0.0, 'support': 696.0}, 'Class 13': {'precision': 0.0, 'recall': 0.0, 'f1-score': 0.0, 'support': 89.0}, 'Class 14': {'precision': 0.0, 'recall': 0.0, 'f1-score': 0.0, 'support': 113.0}, 'Class 15': {'precision': 0.0, 'recall': 0.0, 'f1-score': 0.0, 'support': 94.0}, 'Class 16': {'precision': 0.0, 'recall': 0.0, 'f1-score': 0.0, 'support': 144.0}, 'Class 17': {'precision': 0.0, 'recall': 0.0, 'f1-score': 0.0, 'support': 76.0}, 'Class 18': {'precision': 0.0, 'recall': 0.0, 'f1-score': 0.0, 'support': 439.0}, 'Class 19': {'precision': 0.0, 'recall': 0.0, 'f1-score': 0.0, 'support': 185.0}, 'Class 20': {'precision': 0.0, 'recall': 0.0, 'f1-score': 0.0, 'support': 70.0}, 'Class 21': {'precision': 0.0, 'recall': 0.0, 'f1-score': 0.0, 'support': 163.0}, 'Class 22': {'precision': 0.0, 'recall': 0.0, 'f1-score': 0.0, 'support': 76.0}, 'Class 23': {'precision': 0.0, 'recall': 0.0, 'f1-score': 0.0, 'support': 411.0}, 'Class 24': {'precision': 0.0, 'recall': 0.0, 'f1-score': 0.0, 'support': 133.0}, 'Class 25': {'precision': 0.0, 'recall': 0.0, 'f1-score': 0.0, 'support': 240.0}, 'Class 26': {'precision': 0.0, 'recall': 0.0, 'f1-score': 0.0, 'support': 74.0}, 'Class 27': {'precision': 0.0, 'recall': 0.0, 'f1-score': 0.0, 'support': 212.0}, 'Class 28': {'precision': 0.0, 'recall': 0.0, 'f1-score': 0.0, 'support': 135.0}, 'Class 29': {'precision': 0.0, 'recall': 0.0, 'f1-score': 0.0, 'support': 373.0}, 'Class 30': {'precision': 0.0, 'recall': 0.0, 'f1-score': 0.0, 'support': 126.0}, 'Class 31': {'precision': 0.0, 'recall': 0.0, 'f1-score': 0.0, 'support': 67.0}, 'Class 32': {'precision': 0.0, 'recall': 0.0, 'f1-score': 0.0, 'support': 627.0}, 'Class 33': {'precision': 0.0, 'recall': 0.0, 'f1-score': 0.0, 'support': 83.0}, 'Class 34': {'precision': 0.0, 'recall': 0.0, 'f1-score': 0.0, 'support': 603.0}, 'Class 35': {'precision': 0.0, 'recall': 0.0, 'f1-score': 0.0, 'support': 101.0}, 'Class 36': {'precision': 0.0, 'recall': 0.0, 'f1-score': 0.0, 'support': 74.0}, 'Class 37': {'precision': 0.0, 'recall': 0.0, 'f1-score': 0.0, 'support': 50.0}, 'Class 38': {'precision': 0.0, 'recall': 0.0, 'f1-score': 0.0, 'support': 553.0}, 'Class 39': {'precision': 0.0, 'recall': 0.0, 'f1-score': 0.0, 'support': 122.0}, 'Class 40': {'precision': 0.0, 'recall': 0.0, 'f1-score': 0.0, 'support': 413.0}, 'Class 41': {'precision': 0.0, 'recall': 0.0, 'f1-score': 0.0, 'support': 422.0}, 'Class 42': {'precision': 0.0, 'recall': 0.0, 'f1-score': 0.0, 'support': 427.0}, 'accuracy': 0.005449591280653951, 'macro avg': {'precision': 0.00012673468094544072, 'recall': 0.023255813953488372, 'f1-score': 0.00025209554421125606, 'support': 11744.0}, 'weighted avg': {'precision': 2.969804512617957e-05, 'recall': 0.005449591280653951, 'f1-score': 5.907416022389107e-05, 'support': 11744.0}}, 'Decision Tree': {'Class 0': {'precision': 0.005449591280653951, 'recall': 1.0, 'f1-score': 0.01084010840108401, 'support': 64.0}, 'Class 1': {'precision': 0.0, 'recall': 0.0, 'f1-score': 0.0, 'support': 660.0}, 'Class 2': {'precision': 0.0, 'recall': 0.0, 'f1-score': 0.0, 'support': 619.0}, 'Class 3': {'precision': 0.0, 'recall': 0.0, 'f1-score': 0.0, 'support': 392.0}, 'Class 4': {'precision': 0.0, 'recall': 0.0, 'f1-score': 0.0, 'support': 645.0}, 'Class 5': {'precision': 0.0, 'recall': 0.0, 'f1-score': 0.0, 'support': 649.0}, 'Class 6': {'precision': 0.0, 'recall': 0.0, 'f1-score': 0.0, 'support': 246.0}, 'Class 7': {'precision': 0.0, 'recall': 0.0, 'f1-score': 0.0, 'support': 196.0}, 'Class 8': {'precision': 0.0, 'recall': 0.0, 'f1-score': 0.0, 'support': 125.0}, 'Class 9': {'precision': 0.0, 'recall': 0.0, 'f1-score': 0.0, 'support': 337.0}, 'Class 10': {'precision': 0.0, 'recall': 0.0, 'f1-score': 0.0, 'support': 360.0}, 'Class 11': {'precision': 0.0, 'recall': 0.0, 'f1-score': 0.0, 'support': 60.0}, 'Class 12': {'precision': 0.0, 'recall': 0.0, 'f1-score': 0.0, 'support': 696.0}, 'Class 13': {'precision': 0.0, 'recall': 0.0, 'f1-score': 0.0, 'support': 89.0}, 'Class 14': {'precision': 0.0, 'recall': 0.0, 'f1-score': 0.0, 'support': 113.0}, 'Class 15': {'precision': 0.0, 'recall': 0.0, 'f1-score': 0.0, 'support': 94.0}, 'Class 16': {'precision': 0.0, 'recall': 0.0, 'f1-score': 0.0, 'support': 144.0}, 'Class 17': {'precision': 0.0, 'recall': 0.0, 'f1-score': 0.0, 'support': 76.0}, 'Class 18': {'precision': 0.0, 'recall': 0.0, 'f1-score': 0.0, 'support': 439.0}, 'Class 19': {'precision': 0.0, 'recall': 0.0, 'f1-score': 0.0, 'support': 185.0}, 'Class 20': {'precision': 0.0, 'recall': 0.0, 'f1-score': 0.0, 'support': 70.0}, 'Class 21': {'precision': 0.0, 'recall': 0.0, 'f1-score': 0.0, 'support': 163.0}, 'Class 22': {'precision': 0.0, 'recall': 0.0, 'f1-score': 0.0, 'support': 76.0}, 'Class 23': {'precision': 0.0, 'recall': 0.0, 'f1-score': 0.0, 'support': 411.0}, 'Class 24': {'precision': 0.0, 'recall': 0.0, 'f1-score': 0.0, 'support': 133.0}, 'Class 25': {'precision': 0.0, 'recall': 0.0, 'f1-score': 0.0, 'support': 240.0}, 'Class 26': {'precision': 0.0, 'recall': 0.0, 'f1-score': 0.0, 'support': 74.0}, 'Class 27': {'precision': 0.0, 'recall': 0.0, 'f1-score': 0.0, 'support': 212.0}, 'Class 28': {'precision': 0.0, 'recall': 0.0, 'f1-score': 0.0, 'support': 135.0}, 'Class 29': {'precision': 0.0, 'recall': 0.0, 'f1-score': 0.0, 'support': 373.0}, 'Class 30': {'precision': 0.0, 'recall': 0.0, 'f1-score': 0.0, 'support': 126.0}, 'Class 31': {'precision': 0.0, 'recall': 0.0, 'f1-score': 0.0, 'support': 67.0}, 'Class 32': {'precision': 0.0, 'recall': 0.0, 'f1-score': 0.0, 'support': 627.0}, 'Class 33': {'precision': 0.0, 'recall': 0.0, 'f1-score': 0.0, 'support': 83.0}, 'Class 34': {'precision': 0.0, 'recall': 0.0, 'f1-score': 0.0, 'support': 603.0}, 'Class 35': {'precision': 0.0, 'recall': 0.0, 'f1-score': 0.0, 'support': 101.0}, 'Class 36': {'precision': 0.0, 'recall': 0.0, 'f1-score': 0.0, 'support': 74.0}, 'Class 37': {'precision': 0.0, 'recall': 0.0, 'f1-score': 0.0, 'support': 50.0}, 'Class 38': {'precision': 0.0, 'recall': 0.0, 'f1-score': 0.0, 'support': 553.0}, 'Class 39': {'precision': 0.0, 'recall': 0.0, 'f1-score': 0.0, 'support': 122.0}, 'Class 40': {'precision': 0.0, 'recall': 0.0, 'f1-score': 0.0, 'support': 413.0}, 'Class 41': {'precision': 0.0, 'recall': 0.0, 'f1-score': 0.0, 'support': 422.0}, 'Class 42': {'precision': 0.0, 'recall': 0.0, 'f1-score': 0.0, 'support': 427.0}, 'accuracy': 0.005449591280653951, 'macro avg': {'precision': 0.00012673468094544072, 'recall': 0.023255813953488372, 'f1-score': 0.00025209554421125606, 'support': 11744.0}, 'weighted avg': {'precision': 2.969804512617957e-05, 'recall': 0.005449591280653951, 'f1-score': 5.907416022389107e-05, 'support': 11744.0}}, 'Logistic Regression': {'Class 0': {'precision': 0.0, 'recall': 0.0, 'f1-score': 0.0, 'support': 64.0}, 'Class 1': {'precision': 0.3343534812547819, 'recall': 0.6621212121212121, 'f1-score': 0.4443314692425013, 'support': 660.0}, 'Class 2': {'precision': 0.24018357980622132, 'recall': 0.7609046849757674, 'f1-score': 0.36511627906976746, 'support': 619.0}, 'Class 3': {'precision': 0.45473684210526316, 'recall': 0.5510204081632653, 'f1-score': 0.4982698961937716, 'support': 392.0}, 'Class 4': {'precision': 0.8039473684210526, 'recall': 0.9472868217054263, 'f1-score': 0.8697508896797153, 'support': 645.0}, 'Class 5': {'precision': 0.7455470737913485, 'recall': 0.9029275808936826, 'f1-score': 0.8167247386759582, 'support': 649.0}, 'Class 6': {'precision': 0.49, 'recall': 0.1991869918699187, 'f1-score': 0.2832369942196532, 'support': 246.0}, 'Class 7': {'precision': 0.6842105263157895, 'recall': 0.0663265306122449, 'f1-score': 0.12093023255813953, 'support': 196.0}, 'Class 8': {'precision': 0.3333333333333333, 'recall': 0.008, 'f1-score': 0.015625, 'support': 125.0}, 'Class 9': {'precision': 0.5694716242661448, 'recall': 0.8635014836795252, 'f1-score': 0.6863207547169812, 'support': 337.0}, 'Class 10': {'precision': 0.536, 'recall': 0.5583333333333333, 'f1-score': 0.5469387755102041, 'support': 360.0}, 'Class 11': {'precision': 0.0, 'recall': 0.0, 'f1-score': 0.0, 'support': 60.0}, 'Class 12': {'precision': 0.5403726708074534, 'recall': 0.125, 'f1-score': 0.20303383897316218, 'support': 696.0}, 'Class 13': {'precision': 0.0, 'recall': 0.0, 'f1-score': 0.0, 'support': 89.0}, 'Class 14': {'precision': 0.0, 'recall': 0.0, 'f1-score': 0.0, 'support': 113.0}, 'Class 15': {'precision': 0.3333333333333333, 'recall': 0.0425531914893617, 'f1-score': 0.07547169811320754, 'support': 94.0}, 'Class 16': {'precision': 0.0, 'recall': 0.0, 'f1-score': 0.0, 'support': 144.0}, 'Class 17': {'precision': 0.0, 'recall': 0.0, 'f1-score': 0.0, 'support': 76.0}, 'Class 18': {'precision': 0.3029045643153527, 'recall': 0.1662870159453303, 'f1-score': 0.21470588235294116, 'support': 439.0}, 'Class 19': {'precision': 0.5636363636363636, 'recall': 0.33513513513513515, 'f1-score': 0.42033898305084744, 'support': 185.0}, 'Class 20': {'precision': 0.0, 'recall': 0.0, 'f1-score': 0.0, 'support': 70.0}, 'Class 21': {'precision': 0.0, 'recall': 0.0, 'f1-score': 0.0, 'support': 163.0}, 'Class 22': {'precision': 0.0, 'recall': 0.0, 'f1-score': 0.0, 'support': 76.0}, 'Class 23': {'precision': 0.15374841168996187, 'recall': 0.2944038929440389, 'f1-score': 0.2020033388981636, 'support': 411.0}, 'Class 24': {'precision': 0.31, 'recall': 0.23308270676691728, 'f1-score': 0.26609442060085836, 'support': 133.0}, 'Class 25': {'precision': 0.36153846153846153, 'recall': 0.19583333333333333, 'f1-score': 0.25405405405405407, 'support': 240.0}, 'Class 26': {'precision': 0.0, 'recall': 0.0, 'f1-score': 0.0, 'support': 74.0}, 'Class 27': {'precision': 0.6, 'recall': 0.09905660377358491, 'f1-score': 0.1700404858299595, 'support': 212.0}, 'Class 28': {'precision': 0.7777777777777778, 'recall': 0.05185185185185185, 'f1-score': 0.09722222222222222, 'support': 135.0}, 'Class 29': {'precision': 0.5972495088408645, 'recall': 0.8150134048257373, 'f1-score': 0.6893424036281179, 'support': 373.0}, 'Class 30': {'precision': 0.0, 'recall': 0.0, 'f1-score': 0.0, 'support': 126.0}, 'Class 31': {'precision': 0.0, 'recall': 0.0, 'f1-score': 0.0, 'support': 67.0}, 'Class 32': {'precision': 0.4583333333333333, 'recall': 0.9122807017543859, 'f1-score': 0.6101333333333333, 'support': 627.0}, 'Class 33': {'precision': 0.0, 'recall': 0.0, 'f1-score': 0.0, 'support': 83.0}, 'Class 34': {'precision': 0.2179951690821256, 'recall': 0.5986733001658375, 'f1-score': 0.3196104471004869, 'support': 603.0}, 'Class 35': {'precision': 0.7272727272727273, 'recall': 0.07920792079207921, 'f1-score': 0.14285714285714285, 'support': 101.0}, 'Class 36': {'precision': 0.5555555555555556, 'recall': 0.20270270270270271, 'f1-score': 0.297029702970297, 'support': 74.0}, 'Class 37': {'precision': 0.0, 'recall': 0.0, 'f1-score': 0.0, 'support': 50.0}, 'Class 38': {'precision': 0.10909090909090909, 'recall': 0.0216998191681736, 'f1-score': 0.03619909502262444, 'support': 553.0}, 'Class 39': {'precision': 1.0, 'recall': 0.02459016393442623, 'f1-score': 0.048, 'support': 122.0}, 'Class 40': {'precision': 0.43859649122807015, 'recall': 0.06053268765133172, 'f1-score': 0.10638297872340426, 'support': 413.0}, 'Class 41': {'precision': 0.25, 'recall': 0.009478672985781991, 'f1-score': 0.0182648401826484, 'support': 422.0}, 'Class 42': {'precision': 0.4418604651162791, 'recall': 0.2224824355971897, 'f1-score': 0.29595015576323985, 'support': 427.0}, 'accuracy': 0.4025885558583106, 'macro avg': {'precision': 0.32397789702122104, 'recall': 0.23277847879468777, 'f1-score': 0.2119530245010094, 'support': 11744.0}, 'weighted avg': {'precision': 0.4013174361446796, 'recall': 0.4025885558583106, 'f1-score': 0.3364132268453544, 'support': 11744.0}}, 'DynaDetect': {'Class 0': {'precision': 0.41025641025641024, 'recall': 0.5, 'f1-score': 0.4507042253521127, 'support': 64.0}, 'Class 1': {'precision': 0.2739816031537451, 'recall': 0.6318181818181818, 'f1-score': 0.38221814848762603, 'support': 660.0}, 'Class 2': {'precision': 0.5714285714285714, 'recall': 0.529886914378029, 'f1-score': 0.5498742665549036, 'support': 619.0}, 'Class 3': {'precision': 0.45454545454545453, 'recall': 0.45918367346938777, 'f1-score': 0.45685279187817257, 'support': 392.0}, 'Class 4': {'precision': 0.9526226734348562, 'recall': 0.8728682170542635, 'f1-score': 0.9110032362459547, 'support': 645.0}, 'Class 5': {'precision': 0.8599290780141844, 'recall': 0.7473035439137135, 'f1-score': 0.7996702390766695, 'support': 649.0}, 'Class 6': {'precision': 0.6317460317460317, 'recall': 0.8089430894308943, 'f1-score': 0.7094474153297683, 'support': 246.0}, 'Class 7': {'precision': 0.44, 'recall': 0.336734693877551, 'f1-score': 0.3815028901734104, 'support': 196.0}, 'Class 8': {'precision': 0.581081081081081, 'recall': 0.344, 'f1-score': 0.4321608040201005, 'support': 125.0}, 'Class 9': {'precision': 0.8362068965517241, 'recall': 0.5756676557863502, 'f1-score': 0.6818980667838312, 'support': 337.0}, 'Class 10': {'precision': 0.5612009237875288, 'recall': 0.675, 'f1-score': 0.6128625472887768, 'support': 360.0}, 'Class 11': {'precision': 0.34545454545454546, 'recall': 0.31666666666666665, 'f1-score': 0.33043478260869563, 'support': 60.0}, 'Class 12': {'precision': 0.43896424167694204, 'recall': 0.5114942528735632, 'f1-score': 0.47246184472461844, 'support': 696.0}, 'Class 13': {'precision': 0.5595238095238095, 'recall': 0.5280898876404494, 'f1-score': 0.5433526011560693, 'support': 89.0}, 'Class 14': {'precision': 0.573170731707317, 'recall': 0.415929203539823, 'f1-score': 0.48205128205128206, 'support': 113.0}, 'Class 15': {'precision': 0.3488372093023256, 'recall': 0.3191489361702128, 'f1-score': 0.3333333333333333, 'support': 94.0}, 'Class 16': {'precision': 0.44516129032258067, 'recall': 0.4791666666666667, 'f1-score': 0.46153846153846156, 'support': 144.0}, 'Class 17': {'precision': 0.44680851063829785, 'recall': 0.27631578947368424, 'f1-score': 0.34146341463414637, 'support': 76.0}, 'Class 18': {'precision': 0.5757575757575758, 'recall': 0.4328018223234624, 'f1-score': 0.494148244473342, 'support': 439.0}, 'Class 19': {'precision': 0.7018633540372671, 'recall': 0.6108108108108108, 'f1-score': 0.653179190751445, 'support': 185.0}, 'Class 20': {'precision': 0.5306122448979592, 'recall': 0.37142857142857144, 'f1-score': 0.4369747899159664, 'support': 70.0}, 'Class 21': {'precision': 0.631578947368421, 'recall': 0.36809815950920244, 'f1-score': 0.46511627906976744, 'support': 163.0}, 'Class 22': {'precision': 0.3492063492063492, 'recall': 0.2894736842105263, 'f1-score': 0.31654676258992803, 'support': 76.0}, 'Class 23': {'precision': 0.4339622641509434, 'recall': 0.5036496350364964, 'f1-score': 0.46621621621621623, 'support': 411.0}, 'Class 24': {'precision': 0.4897959183673469, 'recall': 0.3609022556390977, 'f1-score': 0.4155844155844156, 'support': 133.0}, 'Class 25': {'precision': 0.6, 'recall': 0.5, 'f1-score': 0.5454545454545454, 'support': 240.0}, 'Class 26': {'precision': 0.8113207547169812, 'recall': 0.581081081081081, 'f1-score': 0.6771653543307087, 'support': 74.0}, 'Class 27': {'precision': 0.4602076124567474, 'recall': 0.6273584905660378, 'f1-score': 0.530938123752495, 'support': 212.0}, 'Class 28': {'precision': 0.48672566371681414, 'recall': 0.4074074074074074, 'f1-score': 0.4435483870967742, 'support': 135.0}, 'Class 29': {'precision': 0.6398104265402843, 'recall': 0.7238605898123325, 'f1-score': 0.6792452830188679, 'support': 373.0}, 'Class 30': {'precision': 0.47863247863247865, 'recall': 0.4444444444444444, 'f1-score': 0.4609053497942387, 'support': 126.0}, 'Class 31': {'precision': 0.4533333333333333, 'recall': 0.5074626865671642, 'f1-score': 0.4788732394366197, 'support': 67.0}, 'Class 32': {'precision': 0.7798861480075902, 'recall': 0.6555023923444976, 'f1-score': 0.7123050259965338, 'support': 627.0}, 'Class 33': {'precision': 0.5324675324675324, 'recall': 0.4939759036144578, 'f1-score': 0.5125, 'support': 83.0}, 'Class 34': {'precision': 0.48141263940520446, 'recall': 0.4295190713101161, 'f1-score': 0.4539877300613497, 'support': 603.0}, 'Class 35': {'precision': 0.6043956043956044, 'recall': 0.5445544554455446, 'f1-score': 0.5729166666666666, 'support': 101.0}, 'Class 36': {'precision': 0.8571428571428571, 'recall': 0.24324324324324326, 'f1-score': 0.37894736842105264, 'support': 74.0}, 'Class 37': {'precision': 0.8157894736842105, 'recall': 0.62, 'f1-score': 0.7045454545454546, 'support': 50.0}, 'Class 38': {'precision': 0.50199203187251, 'recall': 0.45569620253164556, 'f1-score': 0.4777251184834123, 'support': 553.0}, 'Class 39': {'precision': 0.8508771929824561, 'recall': 0.7950819672131147, 'f1-score': 0.8220338983050848, 'support': 122.0}, 'Class 40': {'precision': 0.4112903225806452, 'recall': 0.3704600484261501, 'f1-score': 0.38980891719745225, 'support': 413.0}, 'Class 41': {'precision': 0.4844559585492228, 'recall': 0.4431279620853081, 'f1-score': 0.4628712871287129, 'support': 422.0}, 'Class 42': {'precision': 0.5435540069686411, 'recall': 0.36533957845433257, 'f1-score': 0.4369747899159664, 'support': 427.0}, 'accuracy': 0.5429155313351499, 'macro avg': {'precision': 0.563650924508474, 'recall': 0.49938367061080197, 'f1-score': 0.5191009951033709, 'support': 11744.0}, 'weighted avg': {'precision': 0.574524750044489, 'recall': 0.5429155313351499, 'f1-score': 0.5483352010087881, 'support': 11744.0}}}\n",
      "MSE values: {'KNN': 186.71432220708448, 'SVM': 285.79317098092645, 'Random Forest': 575.9800749318802, 'Decision Tree': 575.9800749318802, 'Logistic Regression': 250.01890326975476, 'DynaDetect': array([0.00774958, 0.00059555, 0.00117259, ..., 0.01226012, 0.0099958 ,\n",
      "       0.02445219], dtype=float32)}\n",
      "Training classes: ['32', '35', '34', '33', '20', '18', '27', '9', '0', '11', '7', '29', '16', '42', '6', '28', '17', '1', '10', '19', '26', '8', '21', '38', '36', '31', '30', '37', '39', '41', '24', '23', '4', '15', '3', '12', '40', '2', '13', '5', '14', '22', '25']\n",
      "Validation classes: ['32', '35', '34', '33', '20', '18', '27', '9', '0', '11', '7', '29', '16', '42', '6', '28', '17', '1', '10', '19', '26', '8', '21', '38', '36', '31', '30', '37', '39', '41', '24', '23', '4', '15', '3', '12', '40', '2', '13', '5', '14', '22', '25']\n",
      "Number of classes in training data: 43\n",
      "Number of classes in validation data: 43\n",
      "Found 27446 images belonging to 43 classes.\n",
      "Found 11763 images belonging to 43 classes.\n"
     ]
    },
    {
     "name": "stderr",
     "output_type": "stream",
     "text": [
      "2024-06-09 22:01:06,014 - WARNING - Compiled the loaded model, but the compiled metrics have yet to be built. `model.compile_metrics` will be empty until you train or evaluate the model.\n"
     ]
    },
    {
     "name": "stdout",
     "output_type": "stream",
     "text": [
      "Class indices (train): {'0': 0, '1': 1, '10': 2, '11': 3, '12': 4, '13': 5, '14': 6, '15': 7, '16': 8, '17': 9, '18': 10, '19': 11, '2': 12, '20': 13, '21': 14, '22': 15, '23': 16, '24': 17, '25': 18, '26': 19, '27': 20, '28': 21, '29': 22, '3': 23, '30': 24, '31': 25, '32': 26, '33': 27, '34': 28, '35': 29, '36': 30, '37': 31, '38': 32, '39': 33, '4': 34, '40': 35, '41': 36, '42': 37, '5': 38, '6': 39, '7': 40, '8': 41, '9': 42}\n",
      "Class indices (validation): {'0': 0, '1': 1, '10': 2, '11': 3, '12': 4, '13': 5, '14': 6, '15': 7, '16': 8, '17': 9, '18': 10, '19': 11, '2': 12, '20': 13, '21': 14, '22': 15, '23': 16, '24': 17, '25': 18, '26': 19, '27': 20, '28': 21, '29': 22, '3': 23, '30': 24, '31': 25, '32': 26, '33': 27, '34': 28, '35': 29, '36': 30, '37': 31, '38': 32, '39': 33, '4': 34, '40': 35, '41': 36, '42': 37, '5': 38, '6': 39, '7': 40, '8': 41, '9': 42}\n",
      "Steps per epoch (train): 857\n",
      "Steps per epoch (validation): 367\n",
      "Loading existing CNN model...\n"
     ]
    },
    {
     "name": "stderr",
     "output_type": "stream",
     "text": [
      "/Users/brian/miniconda3/envs/jupyter_env/lib/python3.9/site-packages/keras/src/layers/core/dense.py:87: UserWarning: Do not pass an `input_shape`/`input_dim` argument to a layer. When using Sequential models, prefer using an `Input(shape)` object as the first layer in the model instead.\n",
      "  super().__init__(activity_regularizer=activity_regularizer, **kwargs)\n",
      "2024-06-09 22:01:44,993 - WARNING - Compiled the loaded model, but the compiled metrics have yet to be built. `model.compile_metrics` will be empty until you train or evaluate the model.\n"
     ]
    },
    {
     "name": "stdout",
     "output_type": "stream",
     "text": [
      "Surrogate model loaded from surrogate_model_gtsrb.h5\n",
      "Use /var/folders/xt/0mft9cgn4mn92m9qlqqvh6z80000gn/T/tmpbk8j29v8 as temporary training directory\n"
     ]
    },
    {
     "name": "stderr",
     "output_type": "stream",
     "text": [
      "/Users/brian/miniconda3/envs/jupyter_env/lib/python3.9/site-packages/keras/src/layers/core/input_layer.py:25: UserWarning: Argument `input_shape` is deprecated. Use `shape` instead.\n",
      "  warnings.warn(\n",
      "2024-06-09 22:01:45,000 - INFO - Use /var/folders/xt/0mft9cgn4mn92m9qlqqvh6z80000gn/T/tmpbk8j29v8 as temporary training directory\n"
     ]
    },
    {
     "name": "stdout",
     "output_type": "stream",
     "text": [
      "Use /var/folders/xt/0mft9cgn4mn92m9qlqqvh6z80000gn/T/tmp92pr7rki as temporary training directory\n"
     ]
    },
    {
     "name": "stderr",
     "output_type": "stream",
     "text": [
      "2024-06-09 22:01:45,002 - INFO - Use /var/folders/xt/0mft9cgn4mn92m9qlqqvh6z80000gn/T/tmp92pr7rki as temporary training directory\n",
      "/Users/brian/miniconda3/envs/jupyter_env/lib/python3.9/site-packages/keras/src/backend/tensorflow/nn.py:602: UserWarning: \"`sparse_categorical_crossentropy` received `from_logits=True`, but the `output` argument was produced by a Softmax activation and thus does not represent logits. Was this intended?\n",
      "  output, from_logits = _get_logits(\n"
     ]
    },
    {
     "name": "stdout",
     "output_type": "stream",
     "text": [
      "Evaluating with KNN\n",
      "Evaluating with SVM\n",
      "\u001b[1m367/367\u001b[0m \u001b[32m━━━━━━━━━━━━━━━━━━━━\u001b[0m\u001b[37m\u001b[0m \u001b[1m0s\u001b[0m 733us/step\n",
      "Evaluating with Random Forest\n",
      "Warning: The model was called directly (i.e. using `model(data)` instead of using `model.predict(data)`) before being trained. The model will only return zeros until trained. The output shape might change after training Tensor(\"inputs:0\", shape=(None, 2700), dtype=float32)\n"
     ]
    },
    {
     "name": "stderr",
     "output_type": "stream",
     "text": [
      "/Users/brian/miniconda3/envs/jupyter_env/lib/python3.9/site-packages/sklearn/metrics/_classification.py:1517: UndefinedMetricWarning: Precision is ill-defined and being set to 0.0 in labels with no predicted samples. Use `zero_division` parameter to control this behavior.\n",
      "  _warn_prf(average, modifier, f\"{metric.capitalize()} is\", len(result))\n",
      "/Users/brian/miniconda3/envs/jupyter_env/lib/python3.9/site-packages/sklearn/metrics/_classification.py:1517: UndefinedMetricWarning: Precision is ill-defined and being set to 0.0 in labels with no predicted samples. Use `zero_division` parameter to control this behavior.\n",
      "  _warn_prf(average, modifier, f\"{metric.capitalize()} is\", len(result))\n",
      "/Users/brian/miniconda3/envs/jupyter_env/lib/python3.9/site-packages/sklearn/metrics/_classification.py:1517: UndefinedMetricWarning: Precision is ill-defined and being set to 0.0 in labels with no predicted samples. Use `zero_division` parameter to control this behavior.\n",
      "  _warn_prf(average, modifier, f\"{metric.capitalize()} is\", len(result))\n",
      "2024-06-09 22:02:29,372 - WARNING - The model was called directly (i.e. using `model(data)` instead of using `model.predict(data)`) before being trained. The model will only return zeros until trained. The output shape might change after training Tensor(\"inputs:0\", shape=(None, 2700), dtype=float32)\n"
     ]
    },
    {
     "name": "stdout",
     "output_type": "stream",
     "text": [
      "367/367 [==============================] - 0s 651us/step\n",
      "Evaluating with Decision Tree\n",
      "Warning: The model was called directly (i.e. using `model(data)` instead of using `model.predict(data)`) before being trained. The model will only return zeros until trained. The output shape might change after training Tensor(\"inputs:0\", shape=(None, 2700), dtype=float32)\n"
     ]
    },
    {
     "name": "stderr",
     "output_type": "stream",
     "text": [
      "/Users/brian/miniconda3/envs/jupyter_env/lib/python3.9/site-packages/sklearn/metrics/_classification.py:1517: UndefinedMetricWarning: Precision is ill-defined and being set to 0.0 in labels with no predicted samples. Use `zero_division` parameter to control this behavior.\n",
      "  _warn_prf(average, modifier, f\"{metric.capitalize()} is\", len(result))\n",
      "/Users/brian/miniconda3/envs/jupyter_env/lib/python3.9/site-packages/sklearn/metrics/_classification.py:1517: UndefinedMetricWarning: Precision is ill-defined and being set to 0.0 in labels with no predicted samples. Use `zero_division` parameter to control this behavior.\n",
      "  _warn_prf(average, modifier, f\"{metric.capitalize()} is\", len(result))\n",
      "/Users/brian/miniconda3/envs/jupyter_env/lib/python3.9/site-packages/sklearn/metrics/_classification.py:1517: UndefinedMetricWarning: Precision is ill-defined and being set to 0.0 in labels with no predicted samples. Use `zero_division` parameter to control this behavior.\n",
      "  _warn_prf(average, modifier, f\"{metric.capitalize()} is\", len(result))\n",
      "2024-06-09 22:02:29,755 - WARNING - The model was called directly (i.e. using `model(data)` instead of using `model.predict(data)`) before being trained. The model will only return zeros until trained. The output shape might change after training Tensor(\"inputs:0\", shape=(None, 2700), dtype=float32)\n"
     ]
    },
    {
     "name": "stdout",
     "output_type": "stream",
     "text": [
      "367/367 [==============================] - 0s 621us/step\n",
      "Evaluating with Logistic Regression\n"
     ]
    },
    {
     "name": "stderr",
     "output_type": "stream",
     "text": [
      "/Users/brian/miniconda3/envs/jupyter_env/lib/python3.9/site-packages/sklearn/metrics/_classification.py:1517: UndefinedMetricWarning: Precision is ill-defined and being set to 0.0 in labels with no predicted samples. Use `zero_division` parameter to control this behavior.\n",
      "  _warn_prf(average, modifier, f\"{metric.capitalize()} is\", len(result))\n",
      "/Users/brian/miniconda3/envs/jupyter_env/lib/python3.9/site-packages/sklearn/metrics/_classification.py:1517: UndefinedMetricWarning: Precision is ill-defined and being set to 0.0 in labels with no predicted samples. Use `zero_division` parameter to control this behavior.\n",
      "  _warn_prf(average, modifier, f\"{metric.capitalize()} is\", len(result))\n",
      "/Users/brian/miniconda3/envs/jupyter_env/lib/python3.9/site-packages/sklearn/metrics/_classification.py:1517: UndefinedMetricWarning: Precision is ill-defined and being set to 0.0 in labels with no predicted samples. Use `zero_division` parameter to control this behavior.\n",
      "  _warn_prf(average, modifier, f\"{metric.capitalize()} is\", len(result))\n"
     ]
    },
    {
     "name": "stdout",
     "output_type": "stream",
     "text": [
      "\u001b[1m367/367\u001b[0m \u001b[32m━━━━━━━━━━━━━━━━━━━━\u001b[0m\u001b[37m\u001b[0m \u001b[1m0s\u001b[0m 703us/step\n",
      "Evaluating DynaDetect on clean data...\n",
      "Training DynaDetect with config: {'IMG_WIDTH': 30, 'IMG_HEIGHT': 30, 'BATCH_SIZE': 32, 'EPOCHS': 20, 'SEED': 42, 'DATASET': 'GTSRB', 'train_data_dir': './datasets/gtsrb/train', 'validation_data_dir': './datasets/gtsrb/val', 'k': 5, 'num_iterations': 10, 'learning_rate': 0.001, 'regularization': 0.01, 'batch_size': 64, 'num_models': 5, 'mse_threshold': 0.05, 'attack_type': 'pgd', 'evaluation': 'Poisoned', 'source_class': 3, 'target_class': 7, 'steps_per_epoch_train': 857, 'steps_per_epoch_val': 367}\n"
     ]
    },
    {
     "name": "stderr",
     "output_type": "stream",
     "text": [
      "/Users/brian/miniconda3/envs/jupyter_env/lib/python3.9/site-packages/sklearn/metrics/_classification.py:1517: UndefinedMetricWarning: Precision is ill-defined and being set to 0.0 in labels with no predicted samples. Use `zero_division` parameter to control this behavior.\n",
      "  _warn_prf(average, modifier, f\"{metric.capitalize()} is\", len(result))\n",
      "/Users/brian/miniconda3/envs/jupyter_env/lib/python3.9/site-packages/sklearn/metrics/_classification.py:1517: UndefinedMetricWarning: Precision is ill-defined and being set to 0.0 in labels with no predicted samples. Use `zero_division` parameter to control this behavior.\n",
      "  _warn_prf(average, modifier, f\"{metric.capitalize()} is\", len(result))\n",
      "/Users/brian/miniconda3/envs/jupyter_env/lib/python3.9/site-packages/sklearn/metrics/_classification.py:1517: UndefinedMetricWarning: Precision is ill-defined and being set to 0.0 in labels with no predicted samples. Use `zero_division` parameter to control this behavior.\n",
      "  _warn_prf(average, modifier, f\"{metric.capitalize()} is\", len(result))\n",
      "                                                                                                                     "
     ]
    },
    {
     "name": "stdout",
     "output_type": "stream",
     "text": [
      "\u001b[1m 98/184\u001b[0m \u001b[32m━━━━━━━━━━\u001b[0m\u001b[37m━━━━━━━━━━\u001b[0m \u001b[1m0s\u001b[0m 1ms/step"
     ]
    },
    {
     "name": "stderr",
     "output_type": "stream",
     "text": [
      "\r"
     ]
    },
    {
     "name": "stdout",
     "output_type": "stream",
     "text": [
      "\u001b[1m184/184\u001b[0m \u001b[32m━━━━━━━━━━━━━━━━━━━━\u001b[0m\u001b[37m\u001b[0m \u001b[1m0s\u001b[0m 1ms/step\n",
      "\u001b[1m184/184\u001b[0m \u001b[32m━━━━━━━━━━━━━━━━━━━━\u001b[0m\u001b[37m\u001b[0m \u001b[1m0s\u001b[0m 1ms/step\n",
      "\u001b[1m184/184\u001b[0m \u001b[32m━━━━━━━━━━━━━━━━━━━━\u001b[0m\u001b[37m\u001b[0m \u001b[1m0s\u001b[0m 1ms/step\n",
      "\u001b[1m184/184\u001b[0m \u001b[32m━━━━━━━━━━━━━━━━━━━━\u001b[0m\u001b[37m\u001b[0m \u001b[1m0s\u001b[0m 1ms/step\n",
      "\u001b[1m184/184\u001b[0m \u001b[32m━━━━━━━━━━━━━━━━━━━━\u001b[0m\u001b[37m\u001b[0m \u001b[1m0s\u001b[0m 1ms/step  \n",
      "\u001b[1m429/429\u001b[0m \u001b[32m━━━━━━━━━━━━━━━━━━━━\u001b[0m\u001b[37m\u001b[0m \u001b[1m1s\u001b[0m 1ms/step\n",
      "\u001b[1m429/429\u001b[0m \u001b[32m━━━━━━━━━━━━━━━━━━━━\u001b[0m\u001b[37m\u001b[0m \u001b[1m0s\u001b[0m 907us/step\n",
      "\u001b[1m429/429\u001b[0m \u001b[32m━━━━━━━━━━━━━━━━━━━━\u001b[0m\u001b[37m\u001b[0m \u001b[1m0s\u001b[0m 1ms/step\n",
      "\u001b[1m429/429\u001b[0m \u001b[32m━━━━━━━━━━━━━━━━━━━━\u001b[0m\u001b[37m\u001b[0m \u001b[1m0s\u001b[0m 1ms/step\n",
      "\u001b[1m429/429\u001b[0m \u001b[32m━━━━━━━━━━━━━━━━━━━━\u001b[0m\u001b[37m\u001b[0m \u001b[1m0s\u001b[0m 961us/step\n"
     ]
    },
    {
     "name": "stderr",
     "output_type": "stream",
     "text": [
      "2024-06-09 22:07:32,053 - INFO - Pipeline completed\n"
     ]
    },
    {
     "name": "stdout",
     "output_type": "stream",
     "text": [
      "Before replacement:\n",
      "Unique labels in y_test_evaluation: [ 0  1  2  3  4  5  6  7  8  9 10 11 12 13 14 15 16 17 18 19 20 21 22 23\n",
      " 24 25 26 27 28 29 30 31 32 33 34 35 36 37 38 39 40 41 42]\n",
      "Unique labels in dynadetect_predictions: [-1  0  1  2  3  4  5  6  7  8  9 10 11 12 13 14 15 16 17 18 19 20 21 22\n",
      " 23 24 25 26 27 28 29 30 31 32 33 34 35 36 37 38 39 40 41 42]\n",
      "After replacement:\n",
      "Unique labels in dynadetect_predictions: [ 0  1  2  3  4  5  6  7  8  9 10 11 12 13 14 15 16 17 18 19 20 21 22 23\n",
      " 24 25 26 27 28 29 30 31 32 33 34 35 36 37 38 39 40 41 42]\n",
      "Accuracies: {'KNN': 0.4501873297002725, 'SVM': 0.17029972752043596, 'Random Forest': 0.005449591280653951, 'Decision Tree': 0.005449591280653951, 'Logistic Regression': 0.38862397820163486, 'DynaDetect': 0.46185286103542234}\n",
      "Evaluation times: {'KNN': 0.016877174377441406, 'SVM': 30.32415509223938, 'Logistic Regression': 25.24010419845581}\n",
      "Number of poisoned images: 11744\n",
      "Classification reports: {'KNN': {'Class 0': {'precision': 0.18556701030927836, 'recall': 0.28125, 'f1-score': 0.2236024844720497, 'support': 64.0}, 'Class 1': {'precision': 0.29750479846449135, 'recall': 0.4696969696969697, 'f1-score': 0.36427732079905994, 'support': 660.0}, 'Class 2': {'precision': 0.4233378561736771, 'recall': 0.5040387722132472, 'f1-score': 0.46017699115044247, 'support': 619.0}, 'Class 3': {'precision': 0.48535564853556484, 'recall': 0.29591836734693877, 'f1-score': 0.3676703645007924, 'support': 392.0}, 'Class 4': {'precision': 0.6294573643410852, 'recall': 0.6294573643410852, 'f1-score': 0.6294573643410852, 'support': 645.0}, 'Class 5': {'precision': 0.5135135135135135, 'recall': 0.7026194144838213, 'f1-score': 0.5933636955107352, 'support': 649.0}, 'Class 6': {'precision': 0.7391304347826086, 'recall': 0.2764227642276423, 'f1-score': 0.40236686390532544, 'support': 246.0}, 'Class 7': {'precision': 0.375, 'recall': 0.3520408163265306, 'f1-score': 0.3631578947368421, 'support': 196.0}, 'Class 8': {'precision': 0.6704545454545454, 'recall': 0.472, 'f1-score': 0.5539906103286385, 'support': 125.0}, 'Class 9': {'precision': 0.8693877551020408, 'recall': 0.6320474777448071, 'f1-score': 0.7319587628865979, 'support': 337.0}, 'Class 10': {'precision': 0.372848948374761, 'recall': 0.5416666666666666, 'f1-score': 0.4416761041902605, 'support': 360.0}, 'Class 11': {'precision': 0.10752688172043011, 'recall': 0.16666666666666666, 'f1-score': 0.13071895424836602, 'support': 60.0}, 'Class 12': {'precision': 0.3848314606741573, 'recall': 0.3936781609195402, 'f1-score': 0.38920454545454547, 'support': 696.0}, 'Class 13': {'precision': 0.2331288343558282, 'recall': 0.42696629213483145, 'f1-score': 0.30158730158730157, 'support': 89.0}, 'Class 14': {'precision': 0.6730769230769231, 'recall': 0.30973451327433627, 'f1-score': 0.42424242424242425, 'support': 113.0}, 'Class 15': {'precision': 0.4205607476635514, 'recall': 0.4787234042553192, 'f1-score': 0.44776119402985076, 'support': 94.0}, 'Class 16': {'precision': 0.5571428571428572, 'recall': 0.2708333333333333, 'f1-score': 0.3644859813084112, 'support': 144.0}, 'Class 17': {'precision': 0.5454545454545454, 'recall': 0.07894736842105263, 'f1-score': 0.13793103448275862, 'support': 76.0}, 'Class 18': {'precision': 0.3898809523809524, 'recall': 0.2984054669703872, 'f1-score': 0.33806451612903227, 'support': 439.0}, 'Class 19': {'precision': 0.6335877862595419, 'recall': 0.4486486486486487, 'f1-score': 0.5253164556962026, 'support': 185.0}, 'Class 20': {'precision': 0.32727272727272727, 'recall': 0.2571428571428571, 'f1-score': 0.288, 'support': 70.0}, 'Class 21': {'precision': 0.4536082474226804, 'recall': 0.26993865030674846, 'f1-score': 0.3384615384615385, 'support': 163.0}, 'Class 22': {'precision': 0.37777777777777777, 'recall': 0.2236842105263158, 'f1-score': 0.2809917355371901, 'support': 76.0}, 'Class 23': {'precision': 0.384180790960452, 'recall': 0.3309002433090024, 'f1-score': 0.35555555555555557, 'support': 411.0}, 'Class 24': {'precision': 0.47, 'recall': 0.3533834586466165, 'f1-score': 0.4034334763948498, 'support': 133.0}, 'Class 25': {'precision': 0.34411764705882353, 'recall': 0.4875, 'f1-score': 0.40344827586206894, 'support': 240.0}, 'Class 26': {'precision': 0.4387755102040816, 'recall': 0.581081081081081, 'f1-score': 0.5, 'support': 74.0}, 'Class 27': {'precision': 0.7, 'recall': 0.3632075471698113, 'f1-score': 0.4782608695652174, 'support': 212.0}, 'Class 28': {'precision': 0.78125, 'recall': 0.5555555555555556, 'f1-score': 0.6493506493506493, 'support': 135.0}, 'Class 29': {'precision': 0.6637931034482759, 'recall': 0.6193029490616622, 'f1-score': 0.6407766990291263, 'support': 373.0}, 'Class 30': {'precision': 0.5176470588235295, 'recall': 0.3492063492063492, 'f1-score': 0.41706161137440756, 'support': 126.0}, 'Class 31': {'precision': 0.7272727272727273, 'recall': 0.3582089552238806, 'f1-score': 0.48, 'support': 67.0}, 'Class 32': {'precision': 0.5605815831987075, 'recall': 0.5534290271132376, 'f1-score': 0.5569823434991974, 'support': 627.0}, 'Class 33': {'precision': 0.7837837837837838, 'recall': 0.3493975903614458, 'f1-score': 0.48333333333333334, 'support': 83.0}, 'Class 34': {'precision': 0.3754646840148699, 'recall': 0.33499170812603646, 'f1-score': 0.3540753724802805, 'support': 603.0}, 'Class 35': {'precision': 0.4864864864864865, 'recall': 0.3564356435643564, 'f1-score': 0.4114285714285714, 'support': 101.0}, 'Class 36': {'precision': 0.5094339622641509, 'recall': 0.36486486486486486, 'f1-score': 0.4251968503937008, 'support': 74.0}, 'Class 37': {'precision': 0.8064516129032258, 'recall': 0.5, 'f1-score': 0.6172839506172839, 'support': 50.0}, 'Class 38': {'precision': 0.29782608695652174, 'recall': 0.49547920433996384, 'f1-score': 0.37202987101154106, 'support': 553.0}, 'Class 39': {'precision': 0.8404255319148937, 'recall': 0.6475409836065574, 'f1-score': 0.7314814814814815, 'support': 122.0}, 'Class 40': {'precision': 0.37254901960784315, 'recall': 0.41404358353510895, 'f1-score': 0.3922018348623853, 'support': 413.0}, 'Class 41': {'precision': 0.39211136890951276, 'recall': 0.4004739336492891, 'f1-score': 0.3962485345838218, 'support': 422.0}, 'Class 42': {'precision': 0.6323529411764706, 'recall': 0.4028103044496487, 'f1-score': 0.49213161659513593, 'support': 427.0}, 'accuracy': 0.4501873297002725, 'macro avg': {'precision': 0.505811895703207, 'recall': 0.40926374810493504, 'f1-score': 0.4339243031492572, 'support': 11744.0}, 'weighted avg': {'precision': 0.48449862320928166, 'recall': 0.4501873297002725, 'f1-score': 0.4519898585910767, 'support': 11744.0}}, 'SVM': {'Class 0': {'precision': 0.0, 'recall': 0.0, 'f1-score': 0.0, 'support': 64.0}, 'Class 1': {'precision': 0.1002921129503408, 'recall': 0.6242424242424243, 'f1-score': 0.17281879194630873, 'support': 660.0}, 'Class 2': {'precision': 0.0, 'recall': 0.0, 'f1-score': 0.0, 'support': 619.0}, 'Class 3': {'precision': 0.0, 'recall': 0.0, 'f1-score': 0.0, 'support': 392.0}, 'Class 4': {'precision': 0.5246179966044142, 'recall': 0.4790697674418605, 'f1-score': 0.5008103727714749, 'support': 645.0}, 'Class 5': {'precision': 0.3435185185185185, 'recall': 0.5716486902927581, 'f1-score': 0.4291497975708502, 'support': 649.0}, 'Class 6': {'precision': 0.0, 'recall': 0.0, 'f1-score': 0.0, 'support': 246.0}, 'Class 7': {'precision': 0.0, 'recall': 0.0, 'f1-score': 0.0, 'support': 196.0}, 'Class 8': {'precision': 0.0, 'recall': 0.0, 'f1-score': 0.0, 'support': 125.0}, 'Class 9': {'precision': 0.0, 'recall': 0.0, 'f1-score': 0.0, 'support': 337.0}, 'Class 10': {'precision': 1.0, 'recall': 0.002777777777777778, 'f1-score': 0.00554016620498615, 'support': 360.0}, 'Class 11': {'precision': 0.0, 'recall': 0.0, 'f1-score': 0.0, 'support': 60.0}, 'Class 12': {'precision': 0.1024806832045547, 'recall': 0.3620689655172414, 'f1-score': 0.15974643423137877, 'support': 696.0}, 'Class 13': {'precision': 0.0, 'recall': 0.0, 'f1-score': 0.0, 'support': 89.0}, 'Class 14': {'precision': 0.0, 'recall': 0.0, 'f1-score': 0.0, 'support': 113.0}, 'Class 15': {'precision': 0.0, 'recall': 0.0, 'f1-score': 0.0, 'support': 94.0}, 'Class 16': {'precision': 0.0, 'recall': 0.0, 'f1-score': 0.0, 'support': 144.0}, 'Class 17': {'precision': 0.0, 'recall': 0.0, 'f1-score': 0.0, 'support': 76.0}, 'Class 18': {'precision': 1.0, 'recall': 0.002277904328018223, 'f1-score': 0.004545454545454545, 'support': 439.0}, 'Class 19': {'precision': 0.0, 'recall': 0.0, 'f1-score': 0.0, 'support': 185.0}, 'Class 20': {'precision': 0.0, 'recall': 0.0, 'f1-score': 0.0, 'support': 70.0}, 'Class 21': {'precision': 0.0, 'recall': 0.0, 'f1-score': 0.0, 'support': 163.0}, 'Class 22': {'precision': 0.0, 'recall': 0.0, 'f1-score': 0.0, 'support': 76.0}, 'Class 23': {'precision': 0.16580310880829016, 'recall': 0.07785888077858881, 'f1-score': 0.10596026490066225, 'support': 411.0}, 'Class 24': {'precision': 0.0, 'recall': 0.0, 'f1-score': 0.0, 'support': 133.0}, 'Class 25': {'precision': 0.0, 'recall': 0.0, 'f1-score': 0.0, 'support': 240.0}, 'Class 26': {'precision': 0.0, 'recall': 0.0, 'f1-score': 0.0, 'support': 74.0}, 'Class 27': {'precision': 0.0, 'recall': 0.0, 'f1-score': 0.0, 'support': 212.0}, 'Class 28': {'precision': 0.0, 'recall': 0.0, 'f1-score': 0.0, 'support': 135.0}, 'Class 29': {'precision': 0.09090909090909091, 'recall': 0.002680965147453083, 'f1-score': 0.005208333333333333, 'support': 373.0}, 'Class 30': {'precision': 0.0, 'recall': 0.0, 'f1-score': 0.0, 'support': 126.0}, 'Class 31': {'precision': 0.0, 'recall': 0.0, 'f1-score': 0.0, 'support': 67.0}, 'Class 32': {'precision': 0.17804551539491298, 'recall': 0.8484848484848485, 'f1-score': 0.29432918395574, 'support': 627.0}, 'Class 33': {'precision': 0.0, 'recall': 0.0, 'f1-score': 0.0, 'support': 83.0}, 'Class 34': {'precision': 0.31851851851851853, 'recall': 0.14262023217247097, 'f1-score': 0.1970217640320733, 'support': 603.0}, 'Class 35': {'precision': 0.0, 'recall': 0.0, 'f1-score': 0.0, 'support': 101.0}, 'Class 36': {'precision': 0.0, 'recall': 0.0, 'f1-score': 0.0, 'support': 74.0}, 'Class 37': {'precision': 0.0, 'recall': 0.0, 'f1-score': 0.0, 'support': 50.0}, 'Class 38': {'precision': 0.12, 'recall': 0.0054249547920434, 'f1-score': 0.010380622837370242, 'support': 553.0}, 'Class 39': {'precision': 0.0, 'recall': 0.0, 'f1-score': 0.0, 'support': 122.0}, 'Class 40': {'precision': 0.0, 'recall': 0.0, 'f1-score': 0.0, 'support': 413.0}, 'Class 41': {'precision': 0.0, 'recall': 0.0, 'f1-score': 0.0, 'support': 422.0}, 'Class 42': {'precision': 0.0, 'recall': 0.0, 'f1-score': 0.0, 'support': 427.0}, 'accuracy': 0.17029972752043596, 'macro avg': {'precision': 0.09172524523043352, 'recall': 0.07253849792966244, 'f1-score': 0.04384909735650308, 'support': 11744.0}, 'weighted avg': {'precision': 0.16774155737691893, 'recall': 0.17029972752043596, 'f1-score': 0.10093291280978343, 'support': 11744.0}}, 'Random Forest': {'Class 0': {'precision': 0.005449591280653951, 'recall': 1.0, 'f1-score': 0.01084010840108401, 'support': 64.0}, 'Class 1': {'precision': 0.0, 'recall': 0.0, 'f1-score': 0.0, 'support': 660.0}, 'Class 2': {'precision': 0.0, 'recall': 0.0, 'f1-score': 0.0, 'support': 619.0}, 'Class 3': {'precision': 0.0, 'recall': 0.0, 'f1-score': 0.0, 'support': 392.0}, 'Class 4': {'precision': 0.0, 'recall': 0.0, 'f1-score': 0.0, 'support': 645.0}, 'Class 5': {'precision': 0.0, 'recall': 0.0, 'f1-score': 0.0, 'support': 649.0}, 'Class 6': {'precision': 0.0, 'recall': 0.0, 'f1-score': 0.0, 'support': 246.0}, 'Class 7': {'precision': 0.0, 'recall': 0.0, 'f1-score': 0.0, 'support': 196.0}, 'Class 8': {'precision': 0.0, 'recall': 0.0, 'f1-score': 0.0, 'support': 125.0}, 'Class 9': {'precision': 0.0, 'recall': 0.0, 'f1-score': 0.0, 'support': 337.0}, 'Class 10': {'precision': 0.0, 'recall': 0.0, 'f1-score': 0.0, 'support': 360.0}, 'Class 11': {'precision': 0.0, 'recall': 0.0, 'f1-score': 0.0, 'support': 60.0}, 'Class 12': {'precision': 0.0, 'recall': 0.0, 'f1-score': 0.0, 'support': 696.0}, 'Class 13': {'precision': 0.0, 'recall': 0.0, 'f1-score': 0.0, 'support': 89.0}, 'Class 14': {'precision': 0.0, 'recall': 0.0, 'f1-score': 0.0, 'support': 113.0}, 'Class 15': {'precision': 0.0, 'recall': 0.0, 'f1-score': 0.0, 'support': 94.0}, 'Class 16': {'precision': 0.0, 'recall': 0.0, 'f1-score': 0.0, 'support': 144.0}, 'Class 17': {'precision': 0.0, 'recall': 0.0, 'f1-score': 0.0, 'support': 76.0}, 'Class 18': {'precision': 0.0, 'recall': 0.0, 'f1-score': 0.0, 'support': 439.0}, 'Class 19': {'precision': 0.0, 'recall': 0.0, 'f1-score': 0.0, 'support': 185.0}, 'Class 20': {'precision': 0.0, 'recall': 0.0, 'f1-score': 0.0, 'support': 70.0}, 'Class 21': {'precision': 0.0, 'recall': 0.0, 'f1-score': 0.0, 'support': 163.0}, 'Class 22': {'precision': 0.0, 'recall': 0.0, 'f1-score': 0.0, 'support': 76.0}, 'Class 23': {'precision': 0.0, 'recall': 0.0, 'f1-score': 0.0, 'support': 411.0}, 'Class 24': {'precision': 0.0, 'recall': 0.0, 'f1-score': 0.0, 'support': 133.0}, 'Class 25': {'precision': 0.0, 'recall': 0.0, 'f1-score': 0.0, 'support': 240.0}, 'Class 26': {'precision': 0.0, 'recall': 0.0, 'f1-score': 0.0, 'support': 74.0}, 'Class 27': {'precision': 0.0, 'recall': 0.0, 'f1-score': 0.0, 'support': 212.0}, 'Class 28': {'precision': 0.0, 'recall': 0.0, 'f1-score': 0.0, 'support': 135.0}, 'Class 29': {'precision': 0.0, 'recall': 0.0, 'f1-score': 0.0, 'support': 373.0}, 'Class 30': {'precision': 0.0, 'recall': 0.0, 'f1-score': 0.0, 'support': 126.0}, 'Class 31': {'precision': 0.0, 'recall': 0.0, 'f1-score': 0.0, 'support': 67.0}, 'Class 32': {'precision': 0.0, 'recall': 0.0, 'f1-score': 0.0, 'support': 627.0}, 'Class 33': {'precision': 0.0, 'recall': 0.0, 'f1-score': 0.0, 'support': 83.0}, 'Class 34': {'precision': 0.0, 'recall': 0.0, 'f1-score': 0.0, 'support': 603.0}, 'Class 35': {'precision': 0.0, 'recall': 0.0, 'f1-score': 0.0, 'support': 101.0}, 'Class 36': {'precision': 0.0, 'recall': 0.0, 'f1-score': 0.0, 'support': 74.0}, 'Class 37': {'precision': 0.0, 'recall': 0.0, 'f1-score': 0.0, 'support': 50.0}, 'Class 38': {'precision': 0.0, 'recall': 0.0, 'f1-score': 0.0, 'support': 553.0}, 'Class 39': {'precision': 0.0, 'recall': 0.0, 'f1-score': 0.0, 'support': 122.0}, 'Class 40': {'precision': 0.0, 'recall': 0.0, 'f1-score': 0.0, 'support': 413.0}, 'Class 41': {'precision': 0.0, 'recall': 0.0, 'f1-score': 0.0, 'support': 422.0}, 'Class 42': {'precision': 0.0, 'recall': 0.0, 'f1-score': 0.0, 'support': 427.0}, 'accuracy': 0.005449591280653951, 'macro avg': {'precision': 0.00012673468094544072, 'recall': 0.023255813953488372, 'f1-score': 0.00025209554421125606, 'support': 11744.0}, 'weighted avg': {'precision': 2.969804512617957e-05, 'recall': 0.005449591280653951, 'f1-score': 5.907416022389107e-05, 'support': 11744.0}}, 'Decision Tree': {'Class 0': {'precision': 0.005449591280653951, 'recall': 1.0, 'f1-score': 0.01084010840108401, 'support': 64.0}, 'Class 1': {'precision': 0.0, 'recall': 0.0, 'f1-score': 0.0, 'support': 660.0}, 'Class 2': {'precision': 0.0, 'recall': 0.0, 'f1-score': 0.0, 'support': 619.0}, 'Class 3': {'precision': 0.0, 'recall': 0.0, 'f1-score': 0.0, 'support': 392.0}, 'Class 4': {'precision': 0.0, 'recall': 0.0, 'f1-score': 0.0, 'support': 645.0}, 'Class 5': {'precision': 0.0, 'recall': 0.0, 'f1-score': 0.0, 'support': 649.0}, 'Class 6': {'precision': 0.0, 'recall': 0.0, 'f1-score': 0.0, 'support': 246.0}, 'Class 7': {'precision': 0.0, 'recall': 0.0, 'f1-score': 0.0, 'support': 196.0}, 'Class 8': {'precision': 0.0, 'recall': 0.0, 'f1-score': 0.0, 'support': 125.0}, 'Class 9': {'precision': 0.0, 'recall': 0.0, 'f1-score': 0.0, 'support': 337.0}, 'Class 10': {'precision': 0.0, 'recall': 0.0, 'f1-score': 0.0, 'support': 360.0}, 'Class 11': {'precision': 0.0, 'recall': 0.0, 'f1-score': 0.0, 'support': 60.0}, 'Class 12': {'precision': 0.0, 'recall': 0.0, 'f1-score': 0.0, 'support': 696.0}, 'Class 13': {'precision': 0.0, 'recall': 0.0, 'f1-score': 0.0, 'support': 89.0}, 'Class 14': {'precision': 0.0, 'recall': 0.0, 'f1-score': 0.0, 'support': 113.0}, 'Class 15': {'precision': 0.0, 'recall': 0.0, 'f1-score': 0.0, 'support': 94.0}, 'Class 16': {'precision': 0.0, 'recall': 0.0, 'f1-score': 0.0, 'support': 144.0}, 'Class 17': {'precision': 0.0, 'recall': 0.0, 'f1-score': 0.0, 'support': 76.0}, 'Class 18': {'precision': 0.0, 'recall': 0.0, 'f1-score': 0.0, 'support': 439.0}, 'Class 19': {'precision': 0.0, 'recall': 0.0, 'f1-score': 0.0, 'support': 185.0}, 'Class 20': {'precision': 0.0, 'recall': 0.0, 'f1-score': 0.0, 'support': 70.0}, 'Class 21': {'precision': 0.0, 'recall': 0.0, 'f1-score': 0.0, 'support': 163.0}, 'Class 22': {'precision': 0.0, 'recall': 0.0, 'f1-score': 0.0, 'support': 76.0}, 'Class 23': {'precision': 0.0, 'recall': 0.0, 'f1-score': 0.0, 'support': 411.0}, 'Class 24': {'precision': 0.0, 'recall': 0.0, 'f1-score': 0.0, 'support': 133.0}, 'Class 25': {'precision': 0.0, 'recall': 0.0, 'f1-score': 0.0, 'support': 240.0}, 'Class 26': {'precision': 0.0, 'recall': 0.0, 'f1-score': 0.0, 'support': 74.0}, 'Class 27': {'precision': 0.0, 'recall': 0.0, 'f1-score': 0.0, 'support': 212.0}, 'Class 28': {'precision': 0.0, 'recall': 0.0, 'f1-score': 0.0, 'support': 135.0}, 'Class 29': {'precision': 0.0, 'recall': 0.0, 'f1-score': 0.0, 'support': 373.0}, 'Class 30': {'precision': 0.0, 'recall': 0.0, 'f1-score': 0.0, 'support': 126.0}, 'Class 31': {'precision': 0.0, 'recall': 0.0, 'f1-score': 0.0, 'support': 67.0}, 'Class 32': {'precision': 0.0, 'recall': 0.0, 'f1-score': 0.0, 'support': 627.0}, 'Class 33': {'precision': 0.0, 'recall': 0.0, 'f1-score': 0.0, 'support': 83.0}, 'Class 34': {'precision': 0.0, 'recall': 0.0, 'f1-score': 0.0, 'support': 603.0}, 'Class 35': {'precision': 0.0, 'recall': 0.0, 'f1-score': 0.0, 'support': 101.0}, 'Class 36': {'precision': 0.0, 'recall': 0.0, 'f1-score': 0.0, 'support': 74.0}, 'Class 37': {'precision': 0.0, 'recall': 0.0, 'f1-score': 0.0, 'support': 50.0}, 'Class 38': {'precision': 0.0, 'recall': 0.0, 'f1-score': 0.0, 'support': 553.0}, 'Class 39': {'precision': 0.0, 'recall': 0.0, 'f1-score': 0.0, 'support': 122.0}, 'Class 40': {'precision': 0.0, 'recall': 0.0, 'f1-score': 0.0, 'support': 413.0}, 'Class 41': {'precision': 0.0, 'recall': 0.0, 'f1-score': 0.0, 'support': 422.0}, 'Class 42': {'precision': 0.0, 'recall': 0.0, 'f1-score': 0.0, 'support': 427.0}, 'accuracy': 0.005449591280653951, 'macro avg': {'precision': 0.00012673468094544072, 'recall': 0.023255813953488372, 'f1-score': 0.00025209554421125606, 'support': 11744.0}, 'weighted avg': {'precision': 2.969804512617957e-05, 'recall': 0.005449591280653951, 'f1-score': 5.907416022389107e-05, 'support': 11744.0}}, 'Logistic Regression': {'Class 0': {'precision': 0.0, 'recall': 0.0, 'f1-score': 0.0, 'support': 64.0}, 'Class 1': {'precision': 0.30931339225016996, 'recall': 0.6893939393939394, 'f1-score': 0.4270295635851713, 'support': 660.0}, 'Class 2': {'precision': 0.25219941348973607, 'recall': 0.6946688206785138, 'f1-score': 0.37005163511187605, 'support': 619.0}, 'Class 3': {'precision': 0.4583333333333333, 'recall': 0.5051020408163265, 'f1-score': 0.48058252427184467, 'support': 392.0}, 'Class 4': {'precision': 0.8185595567867036, 'recall': 0.9162790697674419, 'f1-score': 0.8646671543525969, 'support': 645.0}, 'Class 5': {'precision': 0.6960297766749379, 'recall': 0.864406779661017, 'f1-score': 0.7711340206185567, 'support': 649.0}, 'Class 6': {'precision': 0.5161290322580645, 'recall': 0.1951219512195122, 'f1-score': 0.2831858407079646, 'support': 246.0}, 'Class 7': {'precision': 0.7777777777777778, 'recall': 0.07142857142857142, 'f1-score': 0.1308411214953271, 'support': 196.0}, 'Class 8': {'precision': 1.0, 'recall': 0.008, 'f1-score': 0.015873015873015872, 'support': 125.0}, 'Class 9': {'precision': 0.5597609561752988, 'recall': 0.8338278931750742, 'f1-score': 0.6698450536352801, 'support': 337.0}, 'Class 10': {'precision': 0.5053763440860215, 'recall': 0.5222222222222223, 'f1-score': 0.5136612021857924, 'support': 360.0}, 'Class 11': {'precision': 1.0, 'recall': 0.03333333333333333, 'f1-score': 0.06451612903225806, 'support': 60.0}, 'Class 12': {'precision': 0.4, 'recall': 0.05172413793103448, 'f1-score': 0.0916030534351145, 'support': 696.0}, 'Class 13': {'precision': 0.0, 'recall': 0.0, 'f1-score': 0.0, 'support': 89.0}, 'Class 14': {'precision': 0.0, 'recall': 0.0, 'f1-score': 0.0, 'support': 113.0}, 'Class 15': {'precision': 0.36363636363636365, 'recall': 0.0425531914893617, 'f1-score': 0.0761904761904762, 'support': 94.0}, 'Class 16': {'precision': 0.0, 'recall': 0.0, 'f1-score': 0.0, 'support': 144.0}, 'Class 17': {'precision': 0.0, 'recall': 0.0, 'f1-score': 0.0, 'support': 76.0}, 'Class 18': {'precision': 0.27884615384615385, 'recall': 0.13211845102505695, 'f1-score': 0.17928902627511592, 'support': 439.0}, 'Class 19': {'precision': 0.3106796116504854, 'recall': 0.17297297297297298, 'f1-score': 0.2222222222222222, 'support': 185.0}, 'Class 20': {'precision': 0.0, 'recall': 0.0, 'f1-score': 0.0, 'support': 70.0}, 'Class 21': {'precision': 0.0, 'recall': 0.0, 'f1-score': 0.0, 'support': 163.0}, 'Class 22': {'precision': 0.0, 'recall': 0.0, 'f1-score': 0.0, 'support': 76.0}, 'Class 23': {'precision': 0.1492921492921493, 'recall': 0.2822384428223844, 'f1-score': 0.19528619528619529, 'support': 411.0}, 'Class 24': {'precision': 0.3142857142857143, 'recall': 0.24812030075187969, 'f1-score': 0.2773109243697479, 'support': 133.0}, 'Class 25': {'precision': 0.410958904109589, 'recall': 0.25, 'f1-score': 0.31088082901554404, 'support': 240.0}, 'Class 26': {'precision': 0.0, 'recall': 0.0, 'f1-score': 0.0, 'support': 74.0}, 'Class 27': {'precision': 0.8085106382978723, 'recall': 0.1792452830188679, 'f1-score': 0.29343629343629346, 'support': 212.0}, 'Class 28': {'precision': 0.9230769230769231, 'recall': 0.08888888888888889, 'f1-score': 0.16216216216216217, 'support': 135.0}, 'Class 29': {'precision': 0.6064908722109533, 'recall': 0.8016085790884718, 'f1-score': 0.6905311778290993, 'support': 373.0}, 'Class 30': {'precision': 0.0, 'recall': 0.0, 'f1-score': 0.0, 'support': 126.0}, 'Class 31': {'precision': 0.0, 'recall': 0.0, 'f1-score': 0.0, 'support': 67.0}, 'Class 32': {'precision': 0.4692370795734208, 'recall': 0.9122807017543859, 'f1-score': 0.6197183098591549, 'support': 627.0}, 'Class 33': {'precision': 1.0, 'recall': 0.012048192771084338, 'f1-score': 0.023809523809523808, 'support': 83.0}, 'Class 34': {'precision': 0.16991786447638604, 'recall': 0.548922056384743, 'f1-score': 0.25950607604860837, 'support': 603.0}, 'Class 35': {'precision': 0.9166666666666666, 'recall': 0.10891089108910891, 'f1-score': 0.19469026548672566, 'support': 101.0}, 'Class 36': {'precision': 0.3793103448275862, 'recall': 0.14864864864864866, 'f1-score': 0.21359223300970873, 'support': 74.0}, 'Class 37': {'precision': 0.0, 'recall': 0.0, 'f1-score': 0.0, 'support': 50.0}, 'Class 38': {'precision': 0.09649122807017543, 'recall': 0.019891500904159132, 'f1-score': 0.03298350824587706, 'support': 553.0}, 'Class 39': {'precision': 0.75, 'recall': 0.02459016393442623, 'f1-score': 0.047619047619047616, 'support': 122.0}, 'Class 40': {'precision': 0.6418918918918919, 'recall': 0.23002421307506055, 'f1-score': 0.33868092691622104, 'support': 413.0}, 'Class 41': {'precision': 0.5416666666666666, 'recall': 0.030805687203791468, 'f1-score': 0.05829596412556054, 'support': 422.0}, 'Class 42': {'precision': 0.47580645161290325, 'recall': 0.13817330210772832, 'f1-score': 0.21415607985480944, 'support': 427.0}, 'accuracy': 0.38862397820163486, 'macro avg': {'precision': 0.39302895597730103, 'recall': 0.22691977273390718, 'f1-score': 0.21147329200155562, 'support': 11744.0}, 'weighted avg': {'precision': 0.42686864410185127, 'recall': 0.38862397820163486, 'f1-score': 0.32833008926114904, 'support': 11744.0}}, 'DynaDetect': {'Class 0': {'precision': 0.34523809523809523, 'recall': 0.453125, 'f1-score': 0.3918918918918919, 'support': 64.0}, 'Class 1': {'precision': 0.26500638569604085, 'recall': 0.6287878787878788, 'f1-score': 0.3728661275831087, 'support': 660.0}, 'Class 2': {'precision': 0.3221476510067114, 'recall': 0.3877221324717286, 'f1-score': 0.3519061583577713, 'support': 619.0}, 'Class 3': {'precision': 0.3634408602150538, 'recall': 0.43112244897959184, 'f1-score': 0.3943990665110852, 'support': 392.0}, 'Class 4': {'precision': 0.9234875444839857, 'recall': 0.8046511627906977, 'f1-score': 0.859983429991715, 'support': 645.0}, 'Class 5': {'precision': 0.7906197654941374, 'recall': 0.7272727272727273, 'f1-score': 0.7576243980738363, 'support': 649.0}, 'Class 6': {'precision': 0.6312292358803987, 'recall': 0.7723577235772358, 'f1-score': 0.6946983546617916, 'support': 246.0}, 'Class 7': {'precision': 0.3684210526315789, 'recall': 0.25, 'f1-score': 0.2978723404255319, 'support': 196.0}, 'Class 8': {'precision': 0.4878048780487805, 'recall': 0.32, 'f1-score': 0.3864734299516908, 'support': 125.0}, 'Class 9': {'precision': 0.7130044843049327, 'recall': 0.47181008902077154, 'f1-score': 0.5678571428571428, 'support': 337.0}, 'Class 10': {'precision': 0.47058823529411764, 'recall': 0.5333333333333333, 'f1-score': 0.5, 'support': 360.0}, 'Class 11': {'precision': 0.17647058823529413, 'recall': 0.15, 'f1-score': 0.16216216216216217, 'support': 60.0}, 'Class 12': {'precision': 0.3727735368956743, 'recall': 0.4209770114942529, 'f1-score': 0.39541160593792174, 'support': 696.0}, 'Class 13': {'precision': 0.4177215189873418, 'recall': 0.3707865168539326, 'f1-score': 0.39285714285714285, 'support': 89.0}, 'Class 14': {'precision': 0.559322033898305, 'recall': 0.2920353982300885, 'f1-score': 0.38372093023255816, 'support': 113.0}, 'Class 15': {'precision': 0.33783783783783783, 'recall': 0.26595744680851063, 'f1-score': 0.2976190476190476, 'support': 94.0}, 'Class 16': {'precision': 0.3865546218487395, 'recall': 0.3194444444444444, 'f1-score': 0.34980988593155893, 'support': 144.0}, 'Class 17': {'precision': 0.2222222222222222, 'recall': 0.10526315789473684, 'f1-score': 0.14285714285714285, 'support': 76.0}, 'Class 18': {'precision': 0.4351851851851852, 'recall': 0.3211845102505695, 'f1-score': 0.36959370904325034, 'support': 439.0}, 'Class 19': {'precision': 0.6792452830188679, 'recall': 0.5837837837837838, 'f1-score': 0.627906976744186, 'support': 185.0}, 'Class 20': {'precision': 0.44680851063829785, 'recall': 0.3, 'f1-score': 0.358974358974359, 'support': 70.0}, 'Class 21': {'precision': 0.5043478260869565, 'recall': 0.3558282208588957, 'f1-score': 0.4172661870503597, 'support': 163.0}, 'Class 22': {'precision': 0.2978723404255319, 'recall': 0.18421052631578946, 'f1-score': 0.22764227642276422, 'support': 76.0}, 'Class 23': {'precision': 0.28982725527831094, 'recall': 0.36739659367396593, 'f1-score': 0.3240343347639485, 'support': 411.0}, 'Class 24': {'precision': 0.3253012048192771, 'recall': 0.20300751879699247, 'f1-score': 0.25, 'support': 133.0}, 'Class 25': {'precision': 0.5138121546961326, 'recall': 0.3875, 'f1-score': 0.4418052256532066, 'support': 240.0}, 'Class 26': {'precision': 0.6896551724137931, 'recall': 0.5405405405405406, 'f1-score': 0.6060606060606061, 'support': 74.0}, 'Class 27': {'precision': 0.44696969696969696, 'recall': 0.5566037735849056, 'f1-score': 0.4957983193277311, 'support': 212.0}, 'Class 28': {'precision': 0.5172413793103449, 'recall': 0.4444444444444444, 'f1-score': 0.47808764940239046, 'support': 135.0}, 'Class 29': {'precision': 0.5777777777777777, 'recall': 0.6970509383378016, 'f1-score': 0.6318347509113001, 'support': 373.0}, 'Class 30': {'precision': 0.47619047619047616, 'recall': 0.3968253968253968, 'f1-score': 0.4329004329004329, 'support': 126.0}, 'Class 31': {'precision': 0.4107142857142857, 'recall': 0.34328358208955223, 'f1-score': 0.37398373983739835, 'support': 67.0}, 'Class 32': {'precision': 0.7589641434262948, 'recall': 0.6076555023923444, 'f1-score': 0.674933569530558, 'support': 627.0}, 'Class 33': {'precision': 0.4666666666666667, 'recall': 0.3373493975903614, 'f1-score': 0.3916083916083916, 'support': 83.0}, 'Class 34': {'precision': 0.34516765285996054, 'recall': 0.2902155887230514, 'f1-score': 0.3153153153153153, 'support': 603.0}, 'Class 35': {'precision': 0.5454545454545454, 'recall': 0.4752475247524752, 'f1-score': 0.5079365079365079, 'support': 101.0}, 'Class 36': {'precision': 0.7741935483870968, 'recall': 0.32432432432432434, 'f1-score': 0.45714285714285713, 'support': 74.0}, 'Class 37': {'precision': 0.6071428571428571, 'recall': 0.34, 'f1-score': 0.4358974358974359, 'support': 50.0}, 'Class 38': {'precision': 0.360082304526749, 'recall': 0.31645569620253167, 'f1-score': 0.3368623676612127, 'support': 553.0}, 'Class 39': {'precision': 0.609375, 'recall': 0.639344262295082, 'f1-score': 0.624, 'support': 122.0}, 'Class 40': {'precision': 0.35170603674540685, 'recall': 0.324455205811138, 'f1-score': 0.33753148614609574, 'support': 413.0}, 'Class 41': {'precision': 0.43360433604336046, 'recall': 0.3791469194312796, 'f1-score': 0.404551201011378, 'support': 422.0}, 'Class 42': {'precision': 0.5373134328358209, 'recall': 0.3372365339578454, 'f1-score': 0.4143884892086331, 'support': 427.0}, 'accuracy': 0.4639816076294278, 'macro avg': {'precision': 0.4780118516472777, 'recall': 0.4129706338823954, 'f1-score': 0.4333968941035678, 'support': 11744.0}, 'weighted avg': {'precision': 0.4916829696776641, 'recall': 0.4639816076294278, 'f1-score': 0.467024670296732, 'support': 11744.0}}}\n",
      "MSE values: {'KNN': 201.04529972752044, 'SVM': 289.52775885558583, 'Random Forest': 575.9800749318802, 'Decision Tree': 575.9800749318802, 'Logistic Regression': 249.62789509536785, 'DynaDetect': array([0.00398356, 0.00077994, 0.00071549, ..., 0.0133645 , 0.00799111,\n",
      "       0.0285804 ], dtype=float32)}\n",
      "Elapsed Time: 12 minutes and 50 seconds\n"
     ]
    }
   ],
   "source": [
    "import sys\n",
    "import os\n",
    "\n",
    "# Add the current working directory to the Python path\n",
    "sys.path.append(os.getcwd())\n",
    "%run run_experiment.py\n"
   ]
  },
  {
   "cell_type": "code",
   "execution_count": null,
   "id": "d115181d-0537-4d85-8cb1-0aa25c59ba89",
   "metadata": {},
   "outputs": [],
   "source": [
    "# import os\n",
    "# import zipfile\n",
    "\n",
    "# def is_hidden(filepath):\n",
    "#     return any(part.startswith('.') for part in filepath.split(os.path.sep))\n",
    "\n",
    "# def is_image(filepath):\n",
    "#     image_extensions = {'.jpg', '.jpeg', '.png', '.gif', '.bmp', '.tiff'}\n",
    "#     return os.path.splitext(filepath)[1].lower() in image_extensions\n",
    "\n",
    "# def zip_directory(directory_path, zip_path):\n",
    "#     with zipfile.ZipFile(zip_path, 'w', zipfile.ZIP_DEFLATED) as zipf:\n",
    "#         for root, _, files in os.walk(directory_path):\n",
    "#             for file in files:\n",
    "#                 file_path = os.path.join(root, file)\n",
    "#                 if not is_hidden(file_path) and not is_image(file_path):\n",
    "#                     zipf.write(file_path, os.path.relpath(file_path, directory_path))\n",
    "\n",
    "# # Example usage\n",
    "# directory_to_zip = '/Users/brian/Desktop/ddv2'\n",
    "# output_zip_file = '/Users/brian/Desktop/ddv2.zip'\n",
    "# zip_directory(directory_to_zip, output_zip_file)\n"
   ]
  },
  {
   "cell_type": "code",
   "execution_count": null,
   "id": "a3e33efd-62d6-4360-aae0-3339a135a924",
   "metadata": {},
   "outputs": [],
   "source": [
    "# import os\n",
    "\n",
    "# def list_directory_structure(root_dir):\n",
    "#     image_extensions = ['.png', '.jpg', '.jpeg', '.gif', '.bmp', '.tiff']\n",
    "#     for root, dirs, files in os.walk(root_dir):\n",
    "#         # Exclude hidden directories\n",
    "#         dirs[:] = [d for d in dirs if not d.startswith('.')]\n",
    "#         level = root.replace(root_dir, '').count(os.sep)\n",
    "#         indent = ' ' * 4 * (level)\n",
    "#         print('{}{}/'.format(indent, os.path.basename(root)))\n",
    "#         subindent = ' ' * 4 * (level + 1)\n",
    "#         for f in files:\n",
    "#             if not f.startswith('.') and not any(f.lower().endswith(ext) for ext in image_extensions):\n",
    "#                 print('{}{}'.format(subindent, f))\n",
    "\n",
    "# # Get the current working directory\n",
    "# project_directory = os.getcwd()\n",
    "# list_directory_structure(project_directory)\n"
   ]
  },
  {
   "cell_type": "code",
   "execution_count": null,
   "id": "2f637faa-361d-4ae6-a8f0-8e4fd3c23be5",
   "metadata": {},
   "outputs": [],
   "source": [
    "# import os\n",
    "\n",
    "# def list_directory_structure(root_dir):\n",
    "#     for dirpath, dirnames, filenames in os.walk(root_dir):\n",
    "#         level = dirpath.replace(root_dir, '').count(os.sep)\n",
    "#         indent = ' ' * 4 * (level)\n",
    "#         print(f\"{indent}{os.path.basename(dirpath)}/\")\n",
    "#         subindent = ' ' * 4 * (level + 1)\n",
    "#         for f in filenames:\n",
    "#             if not f.startswith('.') and not f.endswith('.ipynb_checkpoints'):\n",
    "#                 print(f\"{subindent}{f}\")\n",
    "\n",
    "# root_dir = os.getcwd()\n",
    "# list_directory_structure(root_dir)\n"
   ]
  },
  {
   "cell_type": "code",
   "execution_count": null,
   "id": "7372b6a3-0180-42b9-949d-5cdfb22819ff",
   "metadata": {},
   "outputs": [],
   "source": [
    "# import os\n",
    "\n",
    "# def list_classes(directory):\n",
    "#     classes = []\n",
    "#     for root, dirs, files in os.walk(directory):\n",
    "#         for d in dirs:\n",
    "#             if not d.startswith('.'):\n",
    "#                 classes.append(d)\n",
    "#         # Stop recursion at the top-level directory\n",
    "#         break\n",
    "#     return classes\n",
    "\n",
    "# train_classes = list_classes('./datasets/gtsrb/train')\n",
    "# test_classes = list_classes('./datasets/gtsrb/val')\n",
    "\n",
    "# print(f\"Train Classes ({len(train_classes)}): {train_classes}\")\n",
    "# print(f\"Test Classes ({len(test_classes)}): {test_classes}\")\n",
    "\n",
    "# if len(train_classes) != 43 or len(test_classes) != 43:\n",
    "#     print(\"Warning: The number of classes does not match the expected 43 classes.\")\n"
   ]
  },
  {
   "cell_type": "code",
   "execution_count": null,
   "id": "ac301fc3-b4ec-480f-bc7b-a388bd66df2c",
   "metadata": {},
   "outputs": [],
   "source": []
  }
 ],
 "metadata": {
  "kernelspec": {
   "display_name": "Python 3 (ipykernel)",
   "language": "python",
   "name": "python3"
  },
  "language_info": {
   "codemirror_mode": {
    "name": "ipython",
    "version": 3
   },
   "file_extension": ".py",
   "mimetype": "text/x-python",
   "name": "python",
   "nbconvert_exporter": "python",
   "pygments_lexer": "ipython3",
   "version": "3.9.19"
  }
 },
 "nbformat": 4,
 "nbformat_minor": 5
}
